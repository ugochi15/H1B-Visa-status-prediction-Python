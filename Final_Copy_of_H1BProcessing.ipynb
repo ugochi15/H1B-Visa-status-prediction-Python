{
 "cells": [
  {
   "attachments": {},
   "cell_type": "markdown",
   "metadata": {},
   "source": [
    "# H1B Visa Prediction \n"
   ]
  },
  {
   "cell_type": "markdown",
   "metadata": {},
   "source": [
    "Project By - Sri Shravani Kondeti- Tevi Lawson- Ugochi Madumere- Aparna Rachoori- Promodini Venkatakrishnan \n"
   ]
  },
  {
   "cell_type": "markdown",
   "metadata": {},
   "source": [
    "BCIS 5140 – Fall 2020"
   ]
  },
  {
   "cell_type": "code",
   "execution_count": 1,
   "metadata": {
    "id": "gpyD2PORPYh1"
   },
   "outputs": [],
   "source": [
    "import matplotlib.pyplot as plt\n",
    "import pandas      as pd\n",
    "import numpy       as np\n",
    "import seaborn as sns\n",
    "import sklearn"
   ]
  },
  {
   "cell_type": "code",
   "execution_count": 2,
   "metadata": {
    "colab": {
     "base_uri": "https://localhost:8080/"
    },
    "id": "kpykk4RtVaYW",
    "outputId": "93e73600-4719-403a-e541-b3138acdb138"
   },
   "outputs": [],
   "source": [
    "#from google.colab import drive\n",
    "#drive.mount(\"/content/gdrive\")"
   ]
  },
  {
   "cell_type": "code",
   "execution_count": 3,
   "metadata": {
    "colab": {
     "base_uri": "https://localhost:8080/"
    },
    "id": "EAQorcugVc0L",
    "outputId": "9ce7cc1e-b0b2-40c5-ed12-aa936fd82a0a"
   },
   "outputs": [
    {
     "name": "stderr",
     "output_type": "stream",
     "text": [
      "C:\\Users\\UGOCHI\\anaconda3\\lib\\site-packages\\IPython\\core\\interactiveshell.py:3071: DtypeWarning: Columns (25) have mixed types.Specify dtype option on import or set low_memory=False.\n",
      "  has_raised = await self.run_ast_nodes(code_ast.body, cell_name,\n"
     ]
    }
   ],
   "source": [
    "h1bdf = pd.read_csv(r\"C:\\Users\\UGOCHI\\OneDrive - UNT System\\AI\\H1B Dataset2.csv\", encoding='ISO-8859-1')"
   ]
  },
  {
   "cell_type": "code",
   "execution_count": 4,
   "metadata": {
    "colab": {
     "base_uri": "https://localhost:8080/"
    },
    "id": "n4b5DDy0VkmB",
    "outputId": "02aa466a-1da4-4031-8d15-6a527dbcbdee"
   },
   "outputs": [
    {
     "data": {
      "text/plain": [
       "(528134, 27)"
      ]
     },
     "execution_count": 4,
     "metadata": {},
     "output_type": "execute_result"
    }
   ],
   "source": [
    "h1bdf.shape"
   ]
  },
  {
   "cell_type": "code",
   "execution_count": 5,
   "metadata": {
    "id": "4kz2zVELVzN0"
   },
   "outputs": [],
   "source": [
    "h1bdf.dropna(inplace=True)"
   ]
  },
  {
   "cell_type": "code",
   "execution_count": 6,
   "metadata": {
    "colab": {
     "base_uri": "https://localhost:8080/"
    },
    "id": "gxN7gzqQV1IO",
    "outputId": "6272c185-d824-4df8-9a87-8b6dda18f56a"
   },
   "outputs": [
    {
     "data": {
      "text/plain": [
       "(517745, 27)"
      ]
     },
     "execution_count": 6,
     "metadata": {},
     "output_type": "execute_result"
    }
   ],
   "source": [
    "h1bdf.shape"
   ]
  },
  {
   "cell_type": "code",
   "execution_count": 7,
   "metadata": {
    "colab": {
     "base_uri": "https://localhost:8080/"
    },
    "id": "9VYT9yd7WeN8",
    "outputId": "2f98ace4-fa4c-4e88-f3f2-813fc9b09b9f"
   },
   "outputs": [
    {
     "data": {
      "text/plain": [
       "H1B               517265\n",
       "E3 Australian        363\n",
       "H1B1 Singapore        61\n",
       "H1B1 Chile            56\n",
       "Name: VISA_CLASS, dtype: int64"
      ]
     },
     "execution_count": 7,
     "metadata": {},
     "output_type": "execute_result"
    }
   ],
   "source": [
    "h1bdf.VISA_CLASS.value_counts()"
   ]
  },
  {
   "cell_type": "code",
   "execution_count": 8,
   "metadata": {
    "colab": {
     "base_uri": "https://localhost:8080/"
    },
    "id": "8qPvoeVZm7IM",
    "outputId": "9c12a331-6c40-4f93-c299-d6fabd0ac1ff"
   },
   "outputs": [
    {
     "data": {
      "text/plain": [
       "COMPUTER OCCUPATION                  240883\n",
       "ANALYSTS                             110624\n",
       "ENGINEERS                             43373\n",
       "SCIENTIST                             17440\n",
       "FINANCE                               12934\n",
       "DOCTORS                               12750\n",
       "EDUCATION                             12088\n",
       "ACCOUNTANTS                           10530\n",
       "MARKETING                             10393\n",
       "IT MANAGERS                            6008\n",
       "MANAGERS                               5035\n",
       "MATHEMATICIANS AND STATISTICIANS       4951\n",
       "HUMAN RESOURCES                        3055\n",
       "ARCHITECTURE                           2336\n",
       "LAWYERS AND LEGAL SUPPORT WORKERS      2180\n",
       "DESIGNERS                              2019\n",
       "LAB TECHNICIANS                        2003\n",
       "GRAPHIC DESIGNERS                      1959\n",
       "LOGISTICIANS                           1738\n",
       "HEALTHCARE                             1683\n",
       "INTERNIST                              1492\n",
       "PUBLIC RELATIONS                       1089\n",
       "BUSINESS OPERATIONS SPECIALIST          931\n",
       "ECONOMISTS                              884\n",
       "WRITERS EDITORS AND AUTHORS             865\n",
       "CONSTRUCTION                            849\n",
       "ENTERTAINMENT                           752\n",
       "ACTUARIES                               596\n",
       "CHIEF EXECUTIVES                        592\n",
       "COUNSELORS                              518\n",
       "ANIMAL HUSBANDARY                       514\n",
       "MULTIMEDIA ARTISTS AND ANIMATORS        514\n",
       "SALES AND RELATED WORKERS               391\n",
       "AGRICULTURE                             354\n",
       "FASHION DESIGNERS                       323\n",
       "FOOD PREPARATION WORKERS                286\n",
       "SOCIAL WORKERS                          283\n",
       "REAL ESTATE                             272\n",
       "COACHES AND SCOUTS                      266\n",
       "ENGINEERS                               232\n",
       "REPORTERS AND CORRESPONDENTS            215\n",
       "EVENT PLANNERS                          212\n",
       "INTERPRETERS AND TRANSLATORS            202\n",
       "MECHANICS                               155\n",
       "SURVEYORS                               155\n",
       "CURATORS                                151\n",
       "COMMUNICATIONS                          125\n",
       "INSURANCE                                98\n",
       "OFFICE CLERKS                            91\n",
       "RELIGIOUS WORKERS                        84\n",
       "MANAGEMENT                               68\n",
       "FITNESS TRAINERS                         66\n",
       "LIBRARIANS                               56\n",
       "FIRST LINE SUPERVISORS                   43\n",
       "TRANSPORTATION                           30\n",
       "HISTORIANS                                9\n",
       "Name: SOC_NAME, dtype: int64"
      ]
     },
     "execution_count": 8,
     "metadata": {},
     "output_type": "execute_result"
    }
   ],
   "source": [
    "h1bdf.SOC_NAME.value_counts()"
   ]
  },
  {
   "cell_type": "code",
   "execution_count": 9,
   "metadata": {
    "colab": {
     "base_uri": "https://localhost:8080/"
    },
    "id": "Y_UGAvv-XvS5",
    "outputId": "72705454-9c77-418e-a9d6-c1783bc9f66f"
   },
   "outputs": [
    {
     "data": {
      "text/plain": [
       "Int64Index([  2904,   3125,   3812,   4010,   4063,   4065,   4338,   4690,\n",
       "              5028,   5536,\n",
       "            ...\n",
       "            521790, 521794, 522487, 523440, 524108, 524135, 526570, 527052,\n",
       "            527583, 527982],\n",
       "           dtype='int64', length=363)"
      ]
     },
     "execution_count": 9,
     "metadata": {},
     "output_type": "execute_result"
    }
   ],
   "source": [
    "indexNames = h1bdf[h1bdf['VISA_CLASS'] == 'E3 Australian'].index\n",
    "indexNames"
   ]
  },
  {
   "cell_type": "code",
   "execution_count": 10,
   "metadata": {
    "id": "exh-zWH9W-Ep"
   },
   "outputs": [],
   "source": [
    "h1bdf.drop(indexNames , inplace=True)\n"
   ]
  },
  {
   "cell_type": "code",
   "execution_count": 11,
   "metadata": {
    "colab": {
     "base_uri": "https://localhost:8080/"
    },
    "id": "e_pAHMemYCgf",
    "outputId": "a96fef0a-8ad7-4ac1-98a5-55a658629241"
   },
   "outputs": [
    {
     "data": {
      "text/plain": [
       "Int64Index([  7302,   8510,  32551,  51778,  54250,  54251,  55352,  56249,\n",
       "             65388,  68023,  72225,  78169,  89423,  97101,  98352, 105594,\n",
       "            108785, 109112, 111750, 112293, 113358, 113359, 117004, 119736,\n",
       "            121892, 123153, 123852, 145276, 151317, 155350, 213303, 213343,\n",
       "            230793, 240011, 341743, 344970, 346390, 354317, 400052, 409631,\n",
       "            415925, 422704, 429784, 437673, 440482, 450386, 460178, 479379,\n",
       "            481959, 483083, 483939, 490840, 494421, 496690, 497845, 500312,\n",
       "            501449, 516290, 516482, 516498, 525801],\n",
       "           dtype='int64')"
      ]
     },
     "execution_count": 11,
     "metadata": {},
     "output_type": "execute_result"
    }
   ],
   "source": [
    "indexNames = h1bdf[h1bdf['VISA_CLASS'] == 'H1B1 Singapore'].index\n",
    "indexNames"
   ]
  },
  {
   "cell_type": "code",
   "execution_count": 12,
   "metadata": {
    "id": "QxLLsvzBYKRZ"
   },
   "outputs": [],
   "source": [
    "h1bdf.drop(indexNames , inplace=True)\n"
   ]
  },
  {
   "cell_type": "code",
   "execution_count": 13,
   "metadata": {
    "colab": {
     "base_uri": "https://localhost:8080/"
    },
    "id": "1inG314PYPof",
    "outputId": "b8557f99-4f05-40fa-c611-d501e156e168"
   },
   "outputs": [
    {
     "data": {
      "text/plain": [
       "Int64Index([  6708,   7080,   8291,  16256,  19881,  23063,  28763,  29265,\n",
       "             30599,  36228,  49710,  54623,  55036,  60849,  68928,  77181,\n",
       "             89623,  93644,  93645,  94399, 104395, 106191, 112779, 114926,\n",
       "            123594, 129805, 136010, 138868, 139523, 152213, 207527, 211339,\n",
       "            229131, 301915, 342907, 379190, 379191, 405475, 414544, 418530,\n",
       "            420643, 421577, 429036, 456477, 457791, 466290, 472153, 481515,\n",
       "            483555, 483581, 486440, 490225, 491440, 492720, 506686, 521974],\n",
       "           dtype='int64')"
      ]
     },
     "execution_count": 13,
     "metadata": {},
     "output_type": "execute_result"
    }
   ],
   "source": [
    "indexNames = h1bdf[h1bdf['VISA_CLASS'] == 'H1B1 Chile'].index\n",
    "indexNames"
   ]
  },
  {
   "cell_type": "code",
   "execution_count": 14,
   "metadata": {
    "id": "cilZxHD1YQUQ"
   },
   "outputs": [],
   "source": [
    "h1bdf.drop(indexNames , inplace=True)\n"
   ]
  },
  {
   "cell_type": "code",
   "execution_count": 15,
   "metadata": {
    "colab": {
     "base_uri": "https://localhost:8080/"
    },
    "id": "cejuWtDtXK0U",
    "outputId": "aeeef25c-a2ea-403b-98a5-ea1b0192317b"
   },
   "outputs": [
    {
     "data": {
      "text/plain": [
       "(517265, 27)"
      ]
     },
     "execution_count": 15,
     "metadata": {},
     "output_type": "execute_result"
    }
   ],
   "source": [
    "h1bdf.shape"
   ]
  },
  {
   "cell_type": "code",
   "execution_count": 16,
   "metadata": {},
   "outputs": [],
   "source": [
    "#made a deep copy of dataset\n",
    "cdf = h1bdf.copy()"
   ]
  },
  {
   "cell_type": "code",
   "execution_count": 17,
   "metadata": {},
   "outputs": [
    {
     "data": {
      "text/plain": [
       "CERTIFIED             459833\n",
       "CERTIFIEDWITHDRAWN     35559\n",
       "WITHDRAWN              15685\n",
       "DENIED                  6188\n",
       "Name: CASE_STATUS, dtype: int64"
      ]
     },
     "execution_count": 17,
     "metadata": {},
     "output_type": "execute_result"
    }
   ],
   "source": [
    "cdf.CASE_STATUS.value_counts()"
   ]
  },
  {
   "cell_type": "code",
   "execution_count": 18,
   "metadata": {},
   "outputs": [],
   "source": [
    "case_status = {\n",
    "   'CASE_STATUS': {\n",
    "      r'(PENDING QUALITY AND COMPLIANCE REVIEW - UNASSIGNED|REJECTED|INVALIDATED)':'DENIED',\n",
    "      r'CERTIFIEDWITHDRAWN': 'CERTIFIED'}\n",
    "}\n",
    "cdf.replace(case_status, regex=True, inplace=True)\n",
    "\n",
    "# drop rows with 'WITHDRAWN' value \n",
    "indexNames = cdf[cdf['CASE_STATUS']=='WITHDRAWN'].index\n",
    "cdf.drop(indexNames , inplace=True)"
   ]
  },
  {
   "cell_type": "code",
   "execution_count": 19,
   "metadata": {},
   "outputs": [
    {
     "data": {
      "image/png": "[encoded data removed]",
      "text/plain": [
       "<Figure size 720x576 with 2 Axes>"
      ]
     },
     "metadata": {
      "needs_background": "light"
     },
     "output_type": "display_data"
    }
   ],
   "source": [
    "plt.figure(figsize=(10,8))\n",
    "plt.subplot(1, 2, 1)\n",
    "h1bdf['CASE_STATUS'].value_counts().plot(kind='bar',title='Frequency of Visa Petition Case(with all status)')\n",
    "plt.subplot(1, 2, 2)\n",
    "cdf['CASE_STATUS'].value_counts().plot(kind='bar',title='Frequency of Visa Petition Case(Only CERTIFIED and DENIED)')\n",
    "plt.tight_layout()\n",
    "plt.show()"
   ]
  },
  {
   "cell_type": "code",
   "execution_count": 20,
   "metadata": {},
   "outputs": [
    {
     "name": "stdout",
     "output_type": "stream",
     "text": [
      "Summary of EMPLOYER_NAME column:  count              501580\n",
      "unique              57656\n",
      "top       INFOSYS LIMITED\n",
      "freq                17032\n",
      "Name: EMPLOYER_NAME, dtype: object\n",
      "Summary of SOC_NAME column: :  count                  501580\n",
      "unique                     56\n",
      "top       COMPUTER OCCUPATION\n",
      "freq                   239646\n",
      "Name: SOC_NAME, dtype: object\n"
     ]
    }
   ],
   "source": [
    "print('Summary of EMPLOYER_NAME column: ',cdf.EMPLOYER_NAME.describe())\n",
    "print('Summary of SOC_NAME column: : ',cdf.SOC_NAME.describe())"
   ]
  },
  {
   "cell_type": "code",
   "execution_count": 21,
   "metadata": {},
   "outputs": [
    {
     "data": {
      "image/png": "[encoded data removed]",
      "text/plain": [
       "<Figure size 720x360 with 2 Axes>"
      ]
     },
     "metadata": {
      "needs_background": "light"
     },
     "output_type": "display_data"
    }
   ],
   "source": [
    "plt.figure(figsize=(10,5))\n",
    "plt.subplot(1, 2, 1)\n",
    "cdf.EMPLOYER_NAME.value_counts().head(5).plot(kind='bar',title='Top 5 Company')\n",
    "plt.subplot(1, 2, 2)\n",
    "cdf.SOC_NAME.value_counts().head(5).plot(kind='bar',title='Top 5 Job Position')\n",
    "plt.tight_layout()\n",
    "plt.show()"
   ]
  },
  {
   "cell_type": "code",
   "execution_count": 22,
   "metadata": {},
   "outputs": [
    {
     "name": "stdout",
     "output_type": "stream",
     "text": [
      "Median:  68827.0\n",
      "Mean:  71560.64139206112\n"
     ]
    },
    {
     "data": {
      "text/plain": [
       "count    501580.000000\n",
       "mean      71560.641392\n",
       "std       31451.011479\n",
       "min           0.000000\n",
       "25%       55910.000000\n",
       "50%       68827.000000\n",
       "75%       86902.000000\n",
       "max      414007.000000\n",
       "Name: PREVAILING_WAGE, dtype: float64"
      ]
     },
     "execution_count": 22,
     "metadata": {},
     "output_type": "execute_result"
    }
   ],
   "source": [
    "print('Median: ',np.nanmedian(cdf.PREVAILING_WAGE))\n",
    "print('Mean: ',np.nanmean(cdf.PREVAILING_WAGE))\n",
    "\n",
    "cdf.PREVAILING_WAGE.describe()"
   ]
  },
  {
   "cell_type": "code",
   "execution_count": 35,
   "metadata": {},
   "outputs": [
    {
     "name": "stderr",
     "output_type": "stream",
     "text": [
      "<ipython-input-35-ee75189f8882>:6: UserWarning: Matplotlib is currently using module://ipykernel.pylab.backend_inline, which is a non-GUI backend, so cannot show the figure.\n",
      "  fig.show()\n"
     ]
    },
    {
     "data": {
      "text/plain": [
       "<Figure size 720x576 with 0 Axes>"
      ]
     },
     "metadata": {},
     "output_type": "display_data"
    },
    {
     "data": {
      "image/png": "[encoded data removed]",
      "text/plain": [
       "<Figure size 432x288 with 2 Axes>"
      ]
     },
     "metadata": {
      "needs_background": "light"
     },
     "output_type": "display_data"
    }
   ],
   "source": [
    "plt.figure(figsize=(10,8))\n",
    "fig, ax =plt.subplots(1,2)\n",
    "sns.boxplot(x=h1bdf.PREVAILING_WAGE.head(500),ax=ax[0])\n",
    "#sns.boxplot(x=\"CASE_STATUS\", y=\"PREVAILING_WAGE\", h1bdf=cdf.head(100),palette=\"Blues\",ax=ax[1])\n",
    "plt.tight_layout()\n",
    "fig.show()"
   ]
  },
  {
   "cell_type": "code",
   "execution_count": 36,
   "metadata": {},
   "outputs": [
    {
     "data": {
      "text/plain": [
       "(0.0, 300000.0)"
      ]
     },
     "execution_count": 36,
     "metadata": {},
     "output_type": "execute_result"
    },
    {
     "data": {
      "image/png": "[encoded data removed]",
      "text/plain": [
       "<Figure size 432x288 with 1 Axes>"
      ]
     },
     "metadata": {
      "needs_background": "light"
     },
     "output_type": "display_data"
    }
   ],
   "source": [
    "years = [2011, 2012, 2013,2014,2015,2016]\n",
    "\n",
    "# Iterate through the five airlines\n",
    "for year in years:\n",
    "    # Subset to the airline\n",
    "    subset = h1bdf[h1bdf['CASE_SUBMITTED_YEAR'] == year]\n",
    "    # Draw the density plot\n",
    "    sns.distplot(subset['PREVAILING_WAGE'], hist = False, kde = True,\n",
    "                 kde_kws = {'linewidth': 1},\n",
    "                 label = year)    \n",
    "# Plot formatting\n",
    "plt.legend(prop={'size': 10}, title = 'Wage Trend')\n",
    "plt.title('Density Plot with Wage')\n",
    "plt.xlabel('Wage')\n",
    "plt.ylabel('Density')\n",
    "plt.xlim(0,300000)"
   ]
  },
  {
   "cell_type": "code",
   "execution_count": 37,
   "metadata": {},
   "outputs": [
    {
     "data": {
      "text/plain": [
       "count     501580\n",
       "unique        55\n",
       "top           CA\n",
       "freq       95364\n",
       "Name: WORKSITE_STATE, dtype: object"
      ]
     },
     "execution_count": 37,
     "metadata": {},
     "output_type": "execute_result"
    }
   ],
   "source": [
    "cdf.WORKSITE_STATE.describe()"
   ]
  },
  {
   "cell_type": "code",
   "execution_count": 38,
   "metadata": {},
   "outputs": [
    {
     "data": {
      "text/plain": [
       "<matplotlib.axes._subplots.AxesSubplot at 0x1a1bf4eb160>"
      ]
     },
     "execution_count": 38,
     "metadata": {},
     "output_type": "execute_result"
    },
    {
     "data": {
      "image/png": "[encoded data removed]",
      "text/plain": [
       "<Figure size 432x288 with 1 Axes>"
      ]
     },
     "metadata": {
      "needs_background": "light"
     },
     "output_type": "display_data"
    }
   ],
   "source": [
    "cdf.WORKSITE_STATE.value_counts().head(5).plot(kind='bar',title='Top 5 States with Most Working Position')"
   ]
  },
  {
   "cell_type": "code",
   "execution_count": 39,
   "metadata": {
    "colab": {
     "base_uri": "https://localhost:8080/"
    },
    "id": "L3G2R72JYvsO",
    "outputId": "fb614e68-11c9-4fd3-c911-07b99426d2f8"
   },
   "outputs": [
    {
     "data": {
      "text/plain": [
       "1    505467\n",
       "0     11798\n",
       "Name: FULL_TIME_POSITION, dtype: int64"
      ]
     },
     "execution_count": 39,
     "metadata": {},
     "output_type": "execute_result"
    }
   ],
   "source": [
    "h1bdf['FULL_TIME_POSITION'] = h1bdf['FULL_TIME_POSITION'].replace(['Y'],1)\n",
    "h1bdf['FULL_TIME_POSITION'] = h1bdf['FULL_TIME_POSITION'].replace(['N'],0)\n",
    "#h1bdf.head()\n",
    "h1bdf.FULL_TIME_POSITION.value_counts()"
   ]
  },
  {
   "cell_type": "code",
   "execution_count": 40,
   "metadata": {
    "colab": {
     "base_uri": "https://localhost:8080/"
    },
    "id": "ZqUCqsJQYz5F",
    "outputId": "e01b7806-3c8e-4e50-ec65-faaaaf37ff3f"
   },
   "outputs": [
    {
     "data": {
      "text/plain": [
       "0    516846\n",
       "1       419\n",
       "Name: WILLFUL_VIOLATOR, dtype: int64"
      ]
     },
     "execution_count": 40,
     "metadata": {},
     "output_type": "execute_result"
    }
   ],
   "source": [
    "h1bdf['WILLFUL_VIOLATOR'] = h1bdf['WILLFUL_VIOLATOR'].replace(['Y'],1)\n",
    "h1bdf['WILLFUL_VIOLATOR'] = h1bdf['WILLFUL_VIOLATOR'].replace(['N'],0)\n",
    "#h1bdf.head()\n",
    "h1bdf.WILLFUL_VIOLATOR.value_counts()"
   ]
  },
  {
   "cell_type": "code",
   "execution_count": 41,
   "metadata": {
    "colab": {
     "base_uri": "https://localhost:8080/",
     "height": 167
    },
    "id": "ZgYel2XHY4Kc",
    "outputId": "62ea8c91-8189-4723-f60a-963eda2f3e70"
   },
   "outputs": [
    {
     "data": {
      "text/html": [
       "<div>\n",
       "<style scoped>\n",
       "    .dataframe tbody tr th:only-of-type {\n",
       "        vertical-align: middle;\n",
       "    }\n",
       "\n",
       "    .dataframe tbody tr th {\n",
       "        vertical-align: top;\n",
       "    }\n",
       "\n",
       "    .dataframe thead th {\n",
       "        text-align: right;\n",
       "    }\n",
       "</style>\n",
       "<table border=\"1\" class=\"dataframe\">\n",
       "  <thead>\n",
       "    <tr style=\"text-align: right;\">\n",
       "      <th></th>\n",
       "      <th>CASE_SUBMITTED_DAY</th>\n",
       "      <th>CASE_SUBMITTED_MONTH</th>\n",
       "      <th>CASE_SUBMITTED_YEAR</th>\n",
       "      <th>DECISION_DAY</th>\n",
       "      <th>DECISION_MONTH</th>\n",
       "      <th>DECISION_YEAR</th>\n",
       "      <th>VISA_CLASS</th>\n",
       "      <th>EMPLOYER_NAME</th>\n",
       "      <th>EMPLOYER_STATE</th>\n",
       "      <th>EMPLOYER_COUNTRY</th>\n",
       "      <th>...</th>\n",
       "      <th>PW_SOURCE_YEAR</th>\n",
       "      <th>PW_SOURCE_OTHER</th>\n",
       "      <th>WAGE_RATE_OF_PAY_FROM</th>\n",
       "      <th>WAGE_RATE_OF_PAY_TO</th>\n",
       "      <th>WAGE_UNIT_OF_PAY</th>\n",
       "      <th>H-1B_DEPENDENT</th>\n",
       "      <th>WILLFUL_VIOLATOR</th>\n",
       "      <th>WORKSITE_STATE</th>\n",
       "      <th>WORKSITE_POSTAL_CODE</th>\n",
       "      <th>CASE_STATUS</th>\n",
       "    </tr>\n",
       "  </thead>\n",
       "  <tbody>\n",
       "    <tr>\n",
       "      <th>0</th>\n",
       "      <td>24</td>\n",
       "      <td>2</td>\n",
       "      <td>2016</td>\n",
       "      <td>1</td>\n",
       "      <td>10</td>\n",
       "      <td>2016</td>\n",
       "      <td>H1B</td>\n",
       "      <td>DISCOVER PRODUCTS INC</td>\n",
       "      <td>IL</td>\n",
       "      <td>UNITED STATES OF AMERICA</td>\n",
       "      <td>...</td>\n",
       "      <td>2015.0</td>\n",
       "      <td>OFLC ONLINE DATA CENTER</td>\n",
       "      <td>65811.0</td>\n",
       "      <td>67320.0</td>\n",
       "      <td>Year</td>\n",
       "      <td>0</td>\n",
       "      <td>0</td>\n",
       "      <td>IL</td>\n",
       "      <td>60015</td>\n",
       "      <td>CERTIFIEDWITHDRAWN</td>\n",
       "    </tr>\n",
       "    <tr>\n",
       "      <th>1</th>\n",
       "      <td>4</td>\n",
       "      <td>3</td>\n",
       "      <td>2016</td>\n",
       "      <td>1</td>\n",
       "      <td>10</td>\n",
       "      <td>2016</td>\n",
       "      <td>H1B</td>\n",
       "      <td>DFS SERVICES LLC</td>\n",
       "      <td>IL</td>\n",
       "      <td>UNITED STATES OF AMERICA</td>\n",
       "      <td>...</td>\n",
       "      <td>2015.0</td>\n",
       "      <td>WILLIS TOWERS WATSON SURVEY</td>\n",
       "      <td>53000.0</td>\n",
       "      <td>57200.0</td>\n",
       "      <td>Year</td>\n",
       "      <td>0</td>\n",
       "      <td>0</td>\n",
       "      <td>IL</td>\n",
       "      <td>60015</td>\n",
       "      <td>CERTIFIEDWITHDRAWN</td>\n",
       "    </tr>\n",
       "  </tbody>\n",
       "</table>\n",
       "<p>2 rows × 27 columns</p>\n",
       "</div>"
      ],
      "text/plain": [
       "   CASE_SUBMITTED_DAY  CASE_SUBMITTED_MONTH  CASE_SUBMITTED_YEAR  \\\n",
       "0                  24                     2                 2016   \n",
       "1                   4                     3                 2016   \n",
       "\n",
       "   DECISION_DAY  DECISION_MONTH  DECISION_YEAR VISA_CLASS  \\\n",
       "0             1              10           2016        H1B   \n",
       "1             1              10           2016        H1B   \n",
       "\n",
       "           EMPLOYER_NAME EMPLOYER_STATE          EMPLOYER_COUNTRY  ...  \\\n",
       "0  DISCOVER PRODUCTS INC             IL  UNITED STATES OF AMERICA  ...   \n",
       "1       DFS SERVICES LLC             IL  UNITED STATES OF AMERICA  ...   \n",
       "\n",
       "  PW_SOURCE_YEAR              PW_SOURCE_OTHER  WAGE_RATE_OF_PAY_FROM  \\\n",
       "0         2015.0      OFLC ONLINE DATA CENTER                65811.0   \n",
       "1         2015.0  WILLIS TOWERS WATSON SURVEY                53000.0   \n",
       "\n",
       "   WAGE_RATE_OF_PAY_TO  WAGE_UNIT_OF_PAY H-1B_DEPENDENT WILLFUL_VIOLATOR  \\\n",
       "0              67320.0              Year              0                0   \n",
       "1              57200.0              Year              0                0   \n",
       "\n",
       "   WORKSITE_STATE WORKSITE_POSTAL_CODE         CASE_STATUS  \n",
       "0              IL                60015  CERTIFIEDWITHDRAWN  \n",
       "1              IL                60015  CERTIFIEDWITHDRAWN  \n",
       "\n",
       "[2 rows x 27 columns]"
      ]
     },
     "execution_count": 41,
     "metadata": {},
     "output_type": "execute_result"
    }
   ],
   "source": [
    "h1bdf['H-1B_DEPENDENT'] = h1bdf['H-1B_DEPENDENT'].replace(['Y'],1)\n",
    "h1bdf['H-1B_DEPENDENT'] = h1bdf['H-1B_DEPENDENT'].replace(['N'],0)\n",
    "h1bdf.head(2)\n",
    "#h1bdf.H-1B_DEPENDENT.value_counts()"
   ]
  },
  {
   "cell_type": "code",
   "execution_count": 42,
   "metadata": {
    "colab": {
     "base_uri": "https://localhost:8080/"
    },
    "id": "y3rz9mq4rc5c",
    "outputId": "e4031705-8852-46d1-f0ec-7df9a104f19f"
   },
   "outputs": [
    {
     "data": {
      "text/plain": [
       "CERTIFIED             459833\n",
       "CERTIFIEDWITHDRAWN     35559\n",
       "WITHDRAWN              15685\n",
       "DENIED                  6188\n",
       "Name: CASE_STATUS, dtype: int64"
      ]
     },
     "execution_count": 42,
     "metadata": {},
     "output_type": "execute_result"
    }
   ],
   "source": [
    "h1bdf.CASE_STATUS.value_counts()"
   ]
  },
  {
   "cell_type": "code",
   "execution_count": 43,
   "metadata": {
    "id": "I5PgUIg_1NSH"
   },
   "outputs": [],
   "source": [
    "h1bdf_C = h1bdf[h1bdf['CASE_STATUS'] == 'CERTIFIED']"
   ]
  },
  {
   "cell_type": "code",
   "execution_count": 44,
   "metadata": {
    "colab": {
     "base_uri": "https://localhost:8080/"
    },
    "id": "Euipf7c8E9wI",
    "outputId": "6b2d6100-0d27-4a50-f493-4eaaab2328df"
   },
   "outputs": [
    {
     "data": {
      "text/plain": [
       "(459833, 27)"
      ]
     },
     "execution_count": 44,
     "metadata": {},
     "output_type": "execute_result"
    }
   ],
   "source": [
    "h1bdf_C.shape"
   ]
  },
  {
   "cell_type": "code",
   "execution_count": 45,
   "metadata": {
    "colab": {
     "base_uri": "https://localhost:8080/"
    },
    "id": "k2tZMVUWFHwh",
    "outputId": "90f3f3fd-ce4d-434f-e6b0-20815d4638b5"
   },
   "outputs": [
    {
     "data": {
      "text/plain": [
       "(50000, 27)"
      ]
     },
     "execution_count": 45,
     "metadata": {},
     "output_type": "execute_result"
    }
   ],
   "source": [
    "from sklearn.utils import resample\n",
    "\n",
    "h1bdf_C_downsampled = resample(h1bdf_C,replace=False,n_samples=50000,random_state=123)                                   \n",
    "h1bdf_C_downsampled.shape"
   ]
  },
  {
   "cell_type": "code",
   "execution_count": 46,
   "metadata": {
    "id": "isFIoZhWHa2r"
   },
   "outputs": [],
   "source": [
    "h1bdf_NotCertified = h1bdf[h1bdf['CASE_STATUS'] != 'CERTIFIED']"
   ]
  },
  {
   "cell_type": "code",
   "execution_count": 47,
   "metadata": {
    "colab": {
     "base_uri": "https://localhost:8080/"
    },
    "id": "NGWSxXSmJPnt",
    "outputId": "5259f83b-b5ca-46da-9d43-01d82766cbae"
   },
   "outputs": [
    {
     "data": {
      "text/plain": [
       "CERTIFIEDWITHDRAWN    35559\n",
       "WITHDRAWN             15685\n",
       "DENIED                 6188\n",
       "Name: CASE_STATUS, dtype: int64"
      ]
     },
     "execution_count": 47,
     "metadata": {},
     "output_type": "execute_result"
    }
   ],
   "source": [
    "h1bdf_NotCertified.CASE_STATUS.value_counts()"
   ]
  },
  {
   "cell_type": "code",
   "execution_count": 48,
   "metadata": {
    "id": "AhENCtldJ_N6"
   },
   "outputs": [],
   "source": [
    "h1bdf_sampled = pd.concat([h1bdf_NotCertified,h1bdf_C_downsampled],ignore_index=True)"
   ]
  },
  {
   "cell_type": "code",
   "execution_count": 49,
   "metadata": {
    "colab": {
     "base_uri": "https://localhost:8080/"
    },
    "id": "K2Tg-Hs_LM74",
    "outputId": "32b5b3ac-f02d-4ab0-e7d8-99891c742707"
   },
   "outputs": [
    {
     "data": {
      "text/plain": [
       "CERTIFIED             50000\n",
       "CERTIFIEDWITHDRAWN    35559\n",
       "WITHDRAWN             15685\n",
       "DENIED                 6188\n",
       "Name: CASE_STATUS, dtype: int64"
      ]
     },
     "execution_count": 49,
     "metadata": {},
     "output_type": "execute_result"
    }
   ],
   "source": [
    "h1bdf_sampled.CASE_STATUS.value_counts()"
   ]
  },
  {
   "cell_type": "code",
   "execution_count": 50,
   "metadata": {
    "id": "YdsWYajKXMLz"
   },
   "outputs": [],
   "source": [
    "X= h1bdf_sampled.iloc[:,:-1].values\n",
    "y= h1bdf_sampled.iloc[:,-1].values"
   ]
  },
  {
   "cell_type": "code",
   "execution_count": 51,
   "metadata": {
    "colab": {
     "base_uri": "https://localhost:8080/"
    },
    "id": "N5rqLf5WYdU5",
    "outputId": "2a094cbe-e3b1-4150-9ce9-85f15fcbd027"
   },
   "outputs": [
    {
     "data": {
      "text/plain": [
       "array(['CERTIFIEDWITHDRAWN', 'CERTIFIEDWITHDRAWN', 'CERTIFIEDWITHDRAWN',\n",
       "       ..., 'CERTIFIED', 'CERTIFIED', 'CERTIFIED'], dtype=object)"
      ]
     },
     "execution_count": 51,
     "metadata": {},
     "output_type": "execute_result"
    }
   ],
   "source": [
    "y"
   ]
  },
  {
   "cell_type": "code",
   "execution_count": 52,
   "metadata": {
    "colab": {
     "base_uri": "https://localhost:8080/"
    },
    "id": "0vhwGH6qYfzU",
    "outputId": "ba533557-1ecd-4a23-b60e-b7b77dd572c6"
   },
   "outputs": [
    {
     "data": {
      "text/plain": [
       "(107432,)"
      ]
     },
     "execution_count": 52,
     "metadata": {},
     "output_type": "execute_result"
    }
   ],
   "source": [
    "y.shape"
   ]
  },
  {
   "cell_type": "code",
   "execution_count": 53,
   "metadata": {
    "id": "_R80C5ReYg_G"
   },
   "outputs": [],
   "source": [
    "from sklearn import preprocessing\n",
    "lab_encode = preprocessing.LabelEncoder()\n",
    "lab_encode.fit(y)\n",
    "list(lab_encode.classes_)\n",
    "y1 = lab_encode.transform(y)"
   ]
  },
  {
   "cell_type": "code",
   "execution_count": 54,
   "metadata": {
    "colab": {
     "base_uri": "https://localhost:8080/"
    },
    "id": "grnYQsXTYlKT",
    "outputId": "def76201-ac29-4634-df2d-6aef50db8dab"
   },
   "outputs": [
    {
     "data": {
      "text/plain": [
       "array([1, 1, 1, ..., 0, 0, 0])"
      ]
     },
     "execution_count": 54,
     "metadata": {},
     "output_type": "execute_result"
    }
   ],
   "source": [
    "y1"
   ]
  },
  {
   "cell_type": "code",
   "execution_count": 55,
   "metadata": {
    "colab": {
     "base_uri": "https://localhost:8080/"
    },
    "id": "fac5tG8lYnH3",
    "outputId": "1250ed3e-2d33-48a9-b9dc-347f1924d32d"
   },
   "outputs": [
    {
     "data": {
      "text/plain": [
       "(107432,)"
      ]
     },
     "execution_count": 55,
     "metadata": {},
     "output_type": "execute_result"
    }
   ],
   "source": [
    "y1.shape"
   ]
  },
  {
   "cell_type": "code",
   "execution_count": 56,
   "metadata": {
    "id": "HYHNEElKzD2Y"
   },
   "outputs": [],
   "source": [
    "#cdf_class_c = cdf[cdf.CASE_STATUS=='CERTIFIED']\n",
    "#cdf_class_d = cdf[cdf.CASE_STATUS=='DENIED']"
   ]
  },
  {
   "cell_type": "code",
   "execution_count": 57,
   "metadata": {
    "id": "1uxsyr45r8tD"
   },
   "outputs": [],
   "source": [
    "col_array = ['CASE_SUBMITTED_YEAR','EMPLOYER_NAME','EMPLOYER_STATE','SOC_NAME','FULL_TIME_POSITION','PREVAILING_WAGE','PW_SOURCE','WAGE_RATE_OF_PAY_FROM']"
   ]
  },
  {
   "cell_type": "code",
   "execution_count": 58,
   "metadata": {
    "id": "HiWcJs_0YoLk"
   },
   "outputs": [],
   "source": [
    "numerics = ['int16', 'int32', 'int64', 'float16', 'float32', 'float64']\n",
    "numh1bdf = h1bdf_sampled.select_dtypes(include=numerics)\n",
    "X_num = numh1bdf.to_numpy()"
   ]
  },
  {
   "cell_type": "code",
   "execution_count": 59,
   "metadata": {
    "colab": {
     "base_uri": "https://localhost:8080/"
    },
    "id": "K5qSYPNCZNf5",
    "outputId": "d61e898b-4f79-406c-f268-0e3f16327247"
   },
   "outputs": [
    {
     "data": {
      "text/plain": [
       "array([[2.40000e+01, 2.00000e+00, 2.01600e+03, ..., 6.73200e+04,\n",
       "        0.00000e+00, 0.00000e+00],\n",
       "       [4.00000e+00, 3.00000e+00, 2.01600e+03, ..., 5.72000e+04,\n",
       "        0.00000e+00, 0.00000e+00],\n",
       "       [1.00000e+01, 3.00000e+00, 2.01600e+03, ..., 0.00000e+00,\n",
       "        1.00000e+00, 0.00000e+00],\n",
       "       ...,\n",
       "       [2.00000e+00, 2.00000e+00, 2.01700e+03, ..., 1.36652e+05,\n",
       "        0.00000e+00, 0.00000e+00],\n",
       "       [2.50000e+01, 4.00000e+00, 2.01700e+03, ..., 9.55000e+04,\n",
       "        1.00000e+00, 0.00000e+00],\n",
       "       [1.70000e+01, 1.00000e+00, 2.01700e+03, ..., 0.00000e+00,\n",
       "        0.00000e+00, 0.00000e+00]])"
      ]
     },
     "execution_count": 59,
     "metadata": {},
     "output_type": "execute_result"
    }
   ],
   "source": [
    "X_num"
   ]
  },
  {
   "cell_type": "code",
   "execution_count": 60,
   "metadata": {
    "colab": {
     "base_uri": "https://localhost:8080/"
    },
    "id": "2dgIV8pTMLft",
    "outputId": "f088b415-d9e0-4325-c23a-59b528febd32"
   },
   "outputs": [
    {
     "data": {
      "text/plain": [
       "(107432, 15)"
      ]
     },
     "execution_count": 60,
     "metadata": {},
     "output_type": "execute_result"
    }
   ],
   "source": [
    "X_num.shape"
   ]
  },
  {
   "cell_type": "code",
   "execution_count": 61,
   "metadata": {
    "colab": {
     "base_uri": "https://localhost:8080/",
     "height": 112
    },
    "id": "difd9ff8ZOZa",
    "outputId": "db3414c0-6f68-4cb8-ad72-04b2adf0c972"
   },
   "outputs": [
    {
     "data": {
      "text/html": [
       "<div>\n",
       "<style scoped>\n",
       "    .dataframe tbody tr th:only-of-type {\n",
       "        vertical-align: middle;\n",
       "    }\n",
       "\n",
       "    .dataframe tbody tr th {\n",
       "        vertical-align: top;\n",
       "    }\n",
       "\n",
       "    .dataframe thead th {\n",
       "        text-align: right;\n",
       "    }\n",
       "</style>\n",
       "<table border=\"1\" class=\"dataframe\">\n",
       "  <thead>\n",
       "    <tr style=\"text-align: right;\">\n",
       "      <th></th>\n",
       "      <th>EMPLOYER_STATE</th>\n",
       "      <th>SOC_NAME</th>\n",
       "      <th>PW_SOURCE</th>\n",
       "      <th>PW_SOURCE_OTHER</th>\n",
       "      <th>WORKSITE_STATE</th>\n",
       "      <th>CASE_STATUS</th>\n",
       "    </tr>\n",
       "  </thead>\n",
       "  <tbody>\n",
       "    <tr>\n",
       "      <th>0</th>\n",
       "      <td>IL</td>\n",
       "      <td>ANALYSTS</td>\n",
       "      <td>OES</td>\n",
       "      <td>OFLC ONLINE DATA CENTER</td>\n",
       "      <td>IL</td>\n",
       "      <td>CERTIFIEDWITHDRAWN</td>\n",
       "    </tr>\n",
       "    <tr>\n",
       "      <th>1</th>\n",
       "      <td>IL</td>\n",
       "      <td>ANALYSTS</td>\n",
       "      <td>Other</td>\n",
       "      <td>WILLIS TOWERS WATSON SURVEY</td>\n",
       "      <td>IL</td>\n",
       "      <td>CERTIFIEDWITHDRAWN</td>\n",
       "    </tr>\n",
       "  </tbody>\n",
       "</table>\n",
       "</div>"
      ],
      "text/plain": [
       "  EMPLOYER_STATE  SOC_NAME PW_SOURCE              PW_SOURCE_OTHER  \\\n",
       "0             IL  ANALYSTS       OES      OFLC ONLINE DATA CENTER   \n",
       "1             IL  ANALYSTS     Other  WILLIS TOWERS WATSON SURVEY   \n",
       "\n",
       "  WORKSITE_STATE         CASE_STATUS  \n",
       "0             IL  CERTIFIEDWITHDRAWN  \n",
       "1             IL  CERTIFIEDWITHDRAWN  "
      ]
     },
     "execution_count": 61,
     "metadata": {},
     "output_type": "execute_result"
    }
   ],
   "source": [
    "objh1bdf = h1bdf_sampled.select_dtypes(include=['object']).drop([\"WORKSITE_POSTAL_CODE\", \"EMPLOYER_NAME\", \"EMPLOYER_COUNTRY\", \"WAGE_UNIT_OF_PAY\", \"PW_UNIT_OF_PAY\",\"VISA_CLASS\"], axis=1)\n",
    "objh1bdf.head(2)"
   ]
  },
  {
   "cell_type": "code",
   "execution_count": 62,
   "metadata": {
    "colab": {
     "base_uri": "https://localhost:8080/"
    },
    "id": "rUEe4g-RZiSC",
    "outputId": "c4001c40-9b76-4903-97ec-1ab63d62f72e"
   },
   "outputs": [
    {
     "data": {
      "text/plain": [
       "array([[0., 0., 0., ..., 0., 0., 0.],\n",
       "       [0., 0., 0., ..., 0., 0., 0.],\n",
       "       [0., 0., 0., ..., 0., 0., 0.],\n",
       "       ...,\n",
       "       [0., 0., 0., ..., 0., 0., 0.],\n",
       "       [0., 0., 0., ..., 0., 0., 0.],\n",
       "       [0., 0., 0., ..., 0., 0., 0.]])"
      ]
     },
     "execution_count": 62,
     "metadata": {},
     "output_type": "execute_result"
    }
   ],
   "source": [
    "from sklearn.preprocessing import OneHotEncoder\n",
    "enc = OneHotEncoder()\n",
    "X_cat = enc.fit_transform([[x,y,z,w,p] for x,y,z,w,p in zip(objh1bdf['EMPLOYER_STATE'], objh1bdf['SOC_NAME'], objh1bdf['PW_SOURCE'], objh1bdf['PW_SOURCE_OTHER'],objh1bdf['WORKSITE_STATE'])]).toarray()\n",
    "X_cat"
   ]
  },
  {
   "cell_type": "code",
   "execution_count": 63,
   "metadata": {
    "colab": {
     "base_uri": "https://localhost:8080/"
    },
    "id": "B7e2haUyMWv2",
    "outputId": "46ceee0e-cf8c-4c74-ee5f-4b556f5451d7"
   },
   "outputs": [
    {
     "data": {
      "text/plain": [
       "(107432, 340)"
      ]
     },
     "execution_count": 63,
     "metadata": {},
     "output_type": "execute_result"
    }
   ],
   "source": [
    "X_cat.shape"
   ]
  },
  {
   "cell_type": "code",
   "execution_count": 64,
   "metadata": {
    "colab": {
     "base_uri": "https://localhost:8080/"
    },
    "id": "hbXi7nm0ghsw",
    "outputId": "57115787-86c6-485c-8958-80f2cb0ba6fa"
   },
   "outputs": [
    {
     "data": {
      "text/plain": [
       "array([[2.400e+01, 2.000e+00, 2.016e+03, ..., 0.000e+00, 0.000e+00,\n",
       "        0.000e+00],\n",
       "       [4.000e+00, 3.000e+00, 2.016e+03, ..., 0.000e+00, 0.000e+00,\n",
       "        0.000e+00],\n",
       "       [1.000e+01, 3.000e+00, 2.016e+03, ..., 0.000e+00, 0.000e+00,\n",
       "        0.000e+00],\n",
       "       ...,\n",
       "       [2.000e+00, 2.000e+00, 2.017e+03, ..., 0.000e+00, 0.000e+00,\n",
       "        0.000e+00],\n",
       "       [2.500e+01, 4.000e+00, 2.017e+03, ..., 0.000e+00, 0.000e+00,\n",
       "        0.000e+00],\n",
       "       [1.700e+01, 1.000e+00, 2.017e+03, ..., 0.000e+00, 0.000e+00,\n",
       "        0.000e+00]])"
      ]
     },
     "execution_count": 64,
     "metadata": {},
     "output_type": "execute_result"
    }
   ],
   "source": [
    "X = np.hstack((X_num,X_cat))\n",
    "X"
   ]
  },
  {
   "cell_type": "code",
   "execution_count": 65,
   "metadata": {
    "colab": {
     "base_uri": "https://localhost:8080/"
    },
    "id": "NxThQQr4gzLb",
    "outputId": "2fcc0037-a90c-4a1c-b60f-5f1be6f927b5"
   },
   "outputs": [
    {
     "data": {
      "text/plain": [
       "(107432, 355)"
      ]
     },
     "execution_count": 65,
     "metadata": {},
     "output_type": "execute_result"
    }
   ],
   "source": [
    "X.shape"
   ]
  },
  {
   "cell_type": "code",
   "execution_count": 66,
   "metadata": {
    "id": "3HmmBmWM1-eM"
   },
   "outputs": [],
   "source": [
    "from sklearn.preprocessing import MinMaxScaler\n",
    "scaler = MinMaxScaler()\n",
    "X_scale = scaler.fit_transform(X)"
   ]
  },
  {
   "cell_type": "code",
   "execution_count": 67,
   "metadata": {
    "id": "FbtlBzRHg0sN"
   },
   "outputs": [],
   "source": [
    "from sklearn.model_selection import train_test_split\n",
    "X_train, X_test, y_train, y_test = train_test_split(X_scale,y1, test_size = 0.15, random_state = 101)"
   ]
  },
  {
   "cell_type": "code",
   "execution_count": 68,
   "metadata": {
    "id": "6Tg9i4LeyQyE"
   },
   "outputs": [],
   "source": [
    "from sklearn.model_selection import train_test_split\n",
    "X_train, X_val, y_train, y_val = train_test_split(X_train,y_train, test_size = 0.2, random_state = 101)"
   ]
  },
  {
   "cell_type": "code",
   "execution_count": 69,
   "metadata": {
    "colab": {
     "base_uri": "https://localhost:8080/"
    },
    "id": "zSOWq2C5hEE2",
    "outputId": "072342df-3e4c-475c-9f5d-24d1c2cf0524"
   },
   "outputs": [
    {
     "data": {
      "text/plain": [
       "LogisticRegression(multi_class='ovr')"
      ]
     },
     "execution_count": 69,
     "metadata": {},
     "output_type": "execute_result"
    }
   ],
   "source": [
    "from sklearn.linear_model import LogisticRegression\n",
    "h1b_logreg = LogisticRegression(multi_class='ovr')\n",
    "h1b_logreg"
   ]
  },
  {
   "cell_type": "code",
   "execution_count": 70,
   "metadata": {
    "colab": {
     "base_uri": "https://localhost:8080/"
    },
    "id": "VFkeDdlpiLd5",
    "outputId": "ce7e03f9-76d6-4533-caad-d4e3a9861c48"
   },
   "outputs": [
    {
     "name": "stderr",
     "output_type": "stream",
     "text": [
      "C:\\Users\\UGOCHI\\anaconda3\\lib\\site-packages\\sklearn\\linear_model\\_logistic.py:762: ConvergenceWarning: lbfgs failed to converge (status=1):\n",
      "STOP: TOTAL NO. of ITERATIONS REACHED LIMIT.\n",
      "\n",
      "Increase the number of iterations (max_iter) or scale the data as shown in:\n",
      "    https://scikit-learn.org/stable/modules/preprocessing.html\n",
      "Please also refer to the documentation for alternative solver options:\n",
      "    https://scikit-learn.org/stable/modules/linear_model.html#logistic-regression\n",
      "  n_iter_i = _check_optimize_result(\n",
      "C:\\Users\\UGOCHI\\anaconda3\\lib\\site-packages\\sklearn\\linear_model\\_logistic.py:762: ConvergenceWarning: lbfgs failed to converge (status=1):\n",
      "STOP: TOTAL NO. of ITERATIONS REACHED LIMIT.\n",
      "\n",
      "Increase the number of iterations (max_iter) or scale the data as shown in:\n",
      "    https://scikit-learn.org/stable/modules/preprocessing.html\n",
      "Please also refer to the documentation for alternative solver options:\n",
      "    https://scikit-learn.org/stable/modules/linear_model.html#logistic-regression\n",
      "  n_iter_i = _check_optimize_result(\n",
      "C:\\Users\\UGOCHI\\anaconda3\\lib\\site-packages\\sklearn\\linear_model\\_logistic.py:762: ConvergenceWarning: lbfgs failed to converge (status=1):\n",
      "STOP: TOTAL NO. of ITERATIONS REACHED LIMIT.\n",
      "\n",
      "Increase the number of iterations (max_iter) or scale the data as shown in:\n",
      "    https://scikit-learn.org/stable/modules/preprocessing.html\n",
      "Please also refer to the documentation for alternative solver options:\n",
      "    https://scikit-learn.org/stable/modules/linear_model.html#logistic-regression\n",
      "  n_iter_i = _check_optimize_result(\n",
      "C:\\Users\\UGOCHI\\anaconda3\\lib\\site-packages\\sklearn\\linear_model\\_logistic.py:762: ConvergenceWarning: lbfgs failed to converge (status=1):\n",
      "STOP: TOTAL NO. of ITERATIONS REACHED LIMIT.\n",
      "\n",
      "Increase the number of iterations (max_iter) or scale the data as shown in:\n",
      "    https://scikit-learn.org/stable/modules/preprocessing.html\n",
      "Please also refer to the documentation for alternative solver options:\n",
      "    https://scikit-learn.org/stable/modules/linear_model.html#logistic-regression\n",
      "  n_iter_i = _check_optimize_result(\n"
     ]
    },
    {
     "data": {
      "text/plain": [
       "LogisticRegression(multi_class='ovr')"
      ]
     },
     "execution_count": 70,
     "metadata": {},
     "output_type": "execute_result"
    }
   ],
   "source": [
    "h1b_logreg.fit(X_train,y_train)"
   ]
  },
  {
   "cell_type": "code",
   "execution_count": 71,
   "metadata": {
    "colab": {
     "base_uri": "https://localhost:8080/"
    },
    "id": "XS2Qprc7o63o",
    "outputId": "01734103-70fe-49fa-fc7d-500372ef4dec"
   },
   "outputs": [
    {
     "data": {
      "text/plain": [
       "array([0, 0, 2, ..., 0, 3, 0])"
      ]
     },
     "execution_count": 71,
     "metadata": {},
     "output_type": "execute_result"
    }
   ],
   "source": [
    "pred = h1b_logreg.predict(X_test)\n",
    "pred"
   ]
  },
  {
   "cell_type": "code",
   "execution_count": 72,
   "metadata": {
    "colab": {
     "base_uri": "https://localhost:8080/"
    },
    "id": "TnkAXlHLEls_",
    "outputId": "1896a8c7-6309-4b70-f7a2-180391b89b5b"
   },
   "outputs": [
    {
     "data": {
      "text/plain": [
       "array([1, 0, 0, ..., 3, 0, 1])"
      ]
     },
     "execution_count": 72,
     "metadata": {},
     "output_type": "execute_result"
    }
   ],
   "source": [
    "pred_v = h1b_logreg.predict(X_val)\n",
    "pred_v"
   ]
  },
  {
   "cell_type": "code",
   "execution_count": 73,
   "metadata": {
    "colab": {
     "base_uri": "https://localhost:8080/"
    },
    "id": "syAw82Aaoawl",
    "outputId": "d96dfc94-325d-47a0-bc13-8329a166db90"
   },
   "outputs": [
    {
     "name": "stdout",
     "output_type": "stream",
     "text": [
      "              precision    recall  f1-score   support\n",
      "\n",
      "           0       0.83      0.90      0.86      7491\n",
      "           1       0.85      0.89      0.87      5287\n",
      "           2       0.62      0.21      0.31       956\n",
      "           3       0.69      0.64      0.67      2381\n",
      "\n",
      "    accuracy                           0.82     16115\n",
      "   macro avg       0.75      0.66      0.68     16115\n",
      "weighted avg       0.80      0.82      0.80     16115\n",
      "\n"
     ]
    }
   ],
   "source": [
    "from sklearn.metrics import classification_report\n",
    "print(classification_report(y_test,pred))"
   ]
  },
  {
   "cell_type": "code",
   "execution_count": 74,
   "metadata": {
    "colab": {
     "base_uri": "https://localhost:8080/"
    },
    "id": "2PdLBABrEwGa",
    "outputId": "4393a850-4612-4fee-d92f-64d141460364"
   },
   "outputs": [
    {
     "name": "stdout",
     "output_type": "stream",
     "text": [
      "              precision    recall  f1-score   support\n",
      "\n",
      "           0       0.82      0.90      0.86      8441\n",
      "           1       0.85      0.89      0.87      6078\n",
      "           2       0.66      0.21      0.32      1070\n",
      "           3       0.71      0.63      0.67      2675\n",
      "\n",
      "    accuracy                           0.82     18264\n",
      "   macro avg       0.76      0.66      0.68     18264\n",
      "weighted avg       0.81      0.82      0.80     18264\n",
      "\n"
     ]
    }
   ],
   "source": [
    "from sklearn.metrics import classification_report\n",
    "print(classification_report(y_val,pred_v))"
   ]
  },
  {
   "cell_type": "code",
   "execution_count": 75,
   "metadata": {
    "colab": {
     "base_uri": "https://localhost:8080/"
    },
    "id": "Ii-iwh2PozPW",
    "outputId": "9d7ac088-0a11-40a4-ec7c-e15529ecc4a3"
   },
   "outputs": [
    {
     "data": {
      "text/plain": [
       "array([[6727,  479,   56,  229],\n",
       "       [ 495, 4687,    7,   98],\n",
       "       [ 386,   26,  197,  347],\n",
       "       [ 499,  301,   57, 1524]], dtype=int64)"
      ]
     },
     "execution_count": 75,
     "metadata": {},
     "output_type": "execute_result"
    }
   ],
   "source": [
    "from sklearn.metrics import confusion_matrix\n",
    "confusion_matrix(y_test,pred)"
   ]
  },
  {
   "cell_type": "code",
   "execution_count": 76,
   "metadata": {
    "colab": {
     "base_uri": "https://localhost:8080/"
    },
    "id": "XVvgcldVE7rj",
    "outputId": "5c9251ff-b3c5-4bb3-f368-257e15993458"
   },
   "outputs": [
    {
     "data": {
      "text/plain": [
       "array([[7573,  586,   46,  236],\n",
       "       [ 557, 5410,    7,  104],\n",
       "       [ 442,   52,  229,  347],\n",
       "       [ 609,  309,   67, 1690]], dtype=int64)"
      ]
     },
     "execution_count": 76,
     "metadata": {},
     "output_type": "execute_result"
    }
   ],
   "source": [
    "from sklearn.metrics import confusion_matrix\n",
    "confusion_matrix(y_val,pred_v)"
   ]
  },
  {
   "cell_type": "code",
   "execution_count": 77,
   "metadata": {
    "colab": {
     "base_uri": "https://localhost:8080/"
    },
    "id": "X_YHrrsiS2-H",
    "outputId": "07c0db14-4415-4bc7-f3e8-a88db8cfa887"
   },
   "outputs": [
    {
     "data": {
      "text/plain": [
       "0.7028855103940428"
      ]
     },
     "execution_count": 77,
     "metadata": {},
     "output_type": "execute_result"
    }
   ],
   "source": [
    "from sklearn.metrics import mean_squared_error\n",
    "mean_squared_error(y_test, pred)"
   ]
  },
  {
   "cell_type": "code",
   "execution_count": 78,
   "metadata": {
    "colab": {
     "base_uri": "https://localhost:8080/"
    },
    "id": "eHfyoD-yFHeg",
    "outputId": "879ed09c-1b83-482b-b2f4-f149dc7f40db"
   },
   "outputs": [
    {
     "data": {
      "text/plain": [
       "0.7022010512483574"
      ]
     },
     "execution_count": 78,
     "metadata": {},
     "output_type": "execute_result"
    }
   ],
   "source": [
    "from sklearn.metrics import mean_squared_error\n",
    "mean_squared_error(y_val, pred_v)"
   ]
  },
  {
   "cell_type": "code",
   "execution_count": 79,
   "metadata": {
    "colab": {
     "base_uri": "https://localhost:8080/"
    },
    "id": "vkEcY-CYUk_z",
    "outputId": "80e5f7af-cb3a-45e0-f2ad-e910779ef585"
   },
   "outputs": [
    {
     "data": {
      "text/plain": [
       "0.6768180978796374"
      ]
     },
     "execution_count": 79,
     "metadata": {},
     "output_type": "execute_result"
    }
   ],
   "source": [
    "from sklearn.metrics import f1_score\n",
    "f1_score(y_test, pred, average='macro')"
   ]
  },
  {
   "cell_type": "code",
   "execution_count": 80,
   "metadata": {
    "colab": {
     "base_uri": "https://localhost:8080/"
    },
    "id": "7r64ff2OFPBU",
    "outputId": "8191bd67-761d-417b-d2e4-024ac856a1c4"
   },
   "outputs": [
    {
     "data": {
      "text/plain": [
       "0.6803557337770706"
      ]
     },
     "execution_count": 80,
     "metadata": {},
     "output_type": "execute_result"
    }
   ],
   "source": [
    "from sklearn.metrics import f1_score\n",
    "f1_score(y_val, pred_v, average='macro')"
   ]
  },
  {
   "cell_type": "code",
   "execution_count": 81,
   "metadata": {
    "colab": {
     "base_uri": "https://localhost:8080/"
    },
    "id": "vSzmVakAVGSg",
    "outputId": "d34dbc35-0b19-4301-e2d0-6e76e291fd0a"
   },
   "outputs": [
    {
     "data": {
      "text/plain": [
       "0.6424819162346354"
      ]
     },
     "execution_count": 81,
     "metadata": {},
     "output_type": "execute_result"
    }
   ],
   "source": [
    "from sklearn import metrics\n",
    "fpr, tpr, thresholds = metrics.roc_curve(y_test, pred, pos_label=2)\n",
    "metrics.auc(fpr, tpr)"
   ]
  },
  {
   "cell_type": "code",
   "execution_count": 82,
   "metadata": {
    "colab": {
     "base_uri": "https://localhost:8080/"
    },
    "id": "e0DQm1SpFZDw",
    "outputId": "4f87b86d-f76c-41d2-f05c-c36a443b0625"
   },
   "outputs": [
    {
     "data": {
      "text/plain": [
       "0.6317464579580575"
      ]
     },
     "execution_count": 82,
     "metadata": {},
     "output_type": "execute_result"
    }
   ],
   "source": [
    "from sklearn import metrics\n",
    "fpr_v, tpr_v, thresholds_v = metrics.roc_curve(y_val, pred_v, pos_label=2)\n",
    "metrics.auc(fpr_v, tpr_v)"
   ]
  },
  {
   "cell_type": "code",
   "execution_count": 83,
   "metadata": {
    "colab": {
     "base_uri": "https://localhost:8080/"
    },
    "id": "4nAqTyMjWOZS",
    "outputId": "0b757ac4-aad2-43c0-caea-3efe6b4db0e9"
   },
   "outputs": [
    {
     "data": {
      "text/plain": [
       "0.815079118833385"
      ]
     },
     "execution_count": 83,
     "metadata": {},
     "output_type": "execute_result"
    }
   ],
   "source": [
    "from sklearn.metrics import accuracy_score\n",
    "accuracy_score(y_test, pred)"
   ]
  },
  {
   "cell_type": "code",
   "execution_count": 84,
   "metadata": {
    "colab": {
     "base_uri": "https://localhost:8080/"
    },
    "id": "NoO_MlUaFyZ0",
    "outputId": "541d0e3d-a29b-409c-fd0c-2ff3b0e97164"
   },
   "outputs": [
    {
     "data": {
      "text/plain": [
       "0.815922032413491"
      ]
     },
     "execution_count": 84,
     "metadata": {},
     "output_type": "execute_result"
    }
   ],
   "source": [
    "from sklearn.metrics import accuracy_score\n",
    "accuracy_score(y_val, pred_v)"
   ]
  },
  {
   "cell_type": "code",
   "execution_count": 85,
   "metadata": {
    "colab": {
     "base_uri": "https://localhost:8080/"
    },
    "id": "cfDoXWvElGw7",
    "outputId": "fd518cda-052d-43d5-92e9-791eb9ae1c51"
   },
   "outputs": [
    {
     "data": {
      "text/plain": [
       "LogisticRegression(multi_class='multinomial')"
      ]
     },
     "execution_count": 85,
     "metadata": {},
     "output_type": "execute_result"
    }
   ],
   "source": [
    "from sklearn.linear_model import LogisticRegression\n",
    "h1b_logreg1 = LogisticRegression(multi_class='multinomial')\n",
    "h1b_logreg1"
   ]
  },
  {
   "cell_type": "code",
   "execution_count": 86,
   "metadata": {
    "colab": {
     "base_uri": "https://localhost:8080/"
    },
    "id": "IerivQ1blds4",
    "outputId": "b2a63cbe-998d-4aba-e0e7-60c2ffde7a43"
   },
   "outputs": [
    {
     "name": "stderr",
     "output_type": "stream",
     "text": [
      "C:\\Users\\UGOCHI\\anaconda3\\lib\\site-packages\\sklearn\\linear_model\\_logistic.py:762: ConvergenceWarning: lbfgs failed to converge (status=1):\n",
      "STOP: TOTAL NO. of ITERATIONS REACHED LIMIT.\n",
      "\n",
      "Increase the number of iterations (max_iter) or scale the data as shown in:\n",
      "    https://scikit-learn.org/stable/modules/preprocessing.html\n",
      "Please also refer to the documentation for alternative solver options:\n",
      "    https://scikit-learn.org/stable/modules/linear_model.html#logistic-regression\n",
      "  n_iter_i = _check_optimize_result(\n"
     ]
    },
    {
     "data": {
      "text/plain": [
       "LogisticRegression(multi_class='multinomial')"
      ]
     },
     "execution_count": 86,
     "metadata": {},
     "output_type": "execute_result"
    }
   ],
   "source": [
    "h1b_logreg1.fit(X_train,y_train)"
   ]
  },
  {
   "cell_type": "code",
   "execution_count": 87,
   "metadata": {
    "colab": {
     "base_uri": "https://localhost:8080/"
    },
    "id": "ooP7mnvytlAc",
    "outputId": "6c1ab765-674e-41f3-ed27-aa1c8b0d49fb"
   },
   "outputs": [
    {
     "data": {
      "text/plain": [
       "array([0, 0, 2, ..., 0, 3, 0])"
      ]
     },
     "execution_count": 87,
     "metadata": {},
     "output_type": "execute_result"
    }
   ],
   "source": [
    "pred1 = h1b_logreg1.predict(X_test)\n",
    "pred1"
   ]
  },
  {
   "cell_type": "code",
   "execution_count": 88,
   "metadata": {
    "colab": {
     "base_uri": "https://localhost:8080/"
    },
    "id": "2kQkcEahLtap",
    "outputId": "afffa183-31eb-4bdb-b08b-3a39496f3eeb"
   },
   "outputs": [
    {
     "data": {
      "text/plain": [
       "array([1, 0, 0, ..., 3, 0, 1])"
      ]
     },
     "execution_count": 88,
     "metadata": {},
     "output_type": "execute_result"
    }
   ],
   "source": [
    "pred1_v = h1b_logreg1.predict(X_val)\n",
    "pred1_v"
   ]
  },
  {
   "cell_type": "code",
   "execution_count": 89,
   "metadata": {
    "colab": {
     "base_uri": "https://localhost:8080/"
    },
    "id": "dkyy20ATfcf4",
    "outputId": "ad889f47-26c1-4bb6-a43e-204c8f90c9bc"
   },
   "outputs": [
    {
     "data": {
      "text/plain": [
       "(18264, 4)"
      ]
     },
     "execution_count": 89,
     "metadata": {},
     "output_type": "execute_result"
    }
   ],
   "source": [
    "pred1_v_log_prob = h1b_logreg1.predict_log_proba(X_val)\n",
    "pred1_v_log_prob.shape"
   ]
  },
  {
   "cell_type": "code",
   "execution_count": 90,
   "metadata": {
    "colab": {
     "base_uri": "https://localhost:8080/"
    },
    "id": "kUtN_gp9hJgM",
    "outputId": "d70c412b-9528-4e3a-f1ff-d5c76df3187f"
   },
   "outputs": [
    {
     "data": {
      "text/plain": [
       "array([[0.35572679, 0.61013338, 0.00760042, 0.02653941],\n",
       "       [0.92436789, 0.0294889 , 0.01403263, 0.03211058],\n",
       "       [0.93747291, 0.02989043, 0.01028504, 0.02235162],\n",
       "       ...,\n",
       "       [0.0708081 , 0.05304316, 0.10378142, 0.77236731],\n",
       "       [0.62676383, 0.03089122, 0.1684084 , 0.17393655],\n",
       "       [0.13988077, 0.82489024, 0.00749099, 0.027738  ]])"
      ]
     },
     "execution_count": 90,
     "metadata": {},
     "output_type": "execute_result"
    }
   ],
   "source": [
    "pred1_v_prob = h1b_logreg1.predict_proba(X_val)\n",
    "pred1_v_prob"
   ]
  },
  {
   "cell_type": "code",
   "execution_count": 91,
   "metadata": {
    "id": "_fL2kMR5q3xr"
   },
   "outputs": [],
   "source": [
    "maxarray_v = np.amax(pred1_v_prob,axis=1)"
   ]
  },
  {
   "cell_type": "code",
   "execution_count": 92,
   "metadata": {
    "id": "FZ0FI45xhnfr"
   },
   "outputs": [],
   "source": [
    "indexarray_v = np.argmax(pred1_v_prob,axis=1)"
   ]
  },
  {
   "cell_type": "code",
   "execution_count": 93,
   "metadata": {
    "colab": {
     "base_uri": "https://localhost:8080/"
    },
    "id": "48Eu2pARin4q",
    "outputId": "f29dc30c-ba38-47eb-a588-5a6413669d06"
   },
   "outputs": [
    {
     "data": {
      "text/plain": [
       "array([0, 1, 2, 3], dtype=int64)"
      ]
     },
     "execution_count": 93,
     "metadata": {},
     "output_type": "execute_result"
    }
   ],
   "source": [
    "np.unique(indexarray_v)"
   ]
  },
  {
   "cell_type": "code",
   "execution_count": null,
   "metadata": {
    "id": "0Hx5SrGHZ9mo"
   },
   "outputs": [],
   "source": []
  },
  {
   "cell_type": "code",
   "execution_count": 94,
   "metadata": {
    "colab": {
     "base_uri": "https://localhost:8080/"
    },
    "id": "eK7D59Bopagb",
    "outputId": "aa833a53-0a16-4e53-d82a-56b6178719a1"
   },
   "outputs": [
    {
     "name": "stdout",
     "output_type": "stream",
     "text": [
      "              precision    recall  f1-score   support\n",
      "\n",
      "           0       0.83      0.91      0.87      7491\n",
      "           1       0.87      0.87      0.87      5287\n",
      "           2       0.57      0.24      0.34       956\n",
      "           3       0.69      0.64      0.66      2381\n",
      "\n",
      "    accuracy                           0.82     16115\n",
      "   macro avg       0.74      0.67      0.69     16115\n",
      "weighted avg       0.81      0.82      0.81     16115\n",
      "\n"
     ]
    }
   ],
   "source": [
    "from sklearn.metrics import classification_report\n",
    "print(classification_report(y_test,pred1))"
   ]
  },
  {
   "cell_type": "code",
   "execution_count": 95,
   "metadata": {
    "colab": {
     "base_uri": "https://localhost:8080/"
    },
    "id": "D05OZXDbMQKh",
    "outputId": "bebf0b90-10f0-4299-dbc3-bc84b2c63a8f"
   },
   "outputs": [
    {
     "name": "stdout",
     "output_type": "stream",
     "text": [
      "              precision    recall  f1-score   support\n",
      "\n",
      "           0       0.83      0.91      0.87      8441\n",
      "           1       0.87      0.88      0.88      6078\n",
      "           2       0.62      0.25      0.36      1070\n",
      "           3       0.71      0.63      0.66      2675\n",
      "\n",
      "    accuracy                           0.82     18264\n",
      "   macro avg       0.76      0.67      0.69     18264\n",
      "weighted avg       0.81      0.82      0.81     18264\n",
      "\n"
     ]
    }
   ],
   "source": [
    "from sklearn.metrics import classification_report\n",
    "print(classification_report(y_val,pred1_v))"
   ]
  },
  {
   "cell_type": "code",
   "execution_count": 96,
   "metadata": {
    "colab": {
     "base_uri": "https://localhost:8080/"
    },
    "id": "1iARVkjCuDDp",
    "outputId": "8ce92e28-d34b-4e30-a1bd-196942b66962"
   },
   "outputs": [
    {
     "data": {
      "text/plain": [
       "array([[6806,  374,   84,  227],\n",
       "       [ 526, 4613,    7,  141],\n",
       "       [ 375,   17,  230,  334],\n",
       "       [ 482,  286,   84, 1529]], dtype=int64)"
      ]
     },
     "execution_count": 96,
     "metadata": {},
     "output_type": "execute_result"
    }
   ],
   "source": [
    "from sklearn.metrics import confusion_matrix\n",
    "confusion_matrix(y_test,pred1)"
   ]
  },
  {
   "cell_type": "code",
   "execution_count": 97,
   "metadata": {
    "colab": {
     "base_uri": "https://localhost:8080/"
    },
    "id": "1sJ46w1jGbu8",
    "outputId": "fc5cd94f-49c9-4726-be12-aabee2ca22e1"
   },
   "outputs": [
    {
     "data": {
      "text/plain": [
       "array([[7719,  438,   59,  225],\n",
       "       [ 588, 5345,    7,  138],\n",
       "       [ 436,   28,  266,  340],\n",
       "       [ 598,  300,   96, 1681]], dtype=int64)"
      ]
     },
     "execution_count": 97,
     "metadata": {},
     "output_type": "execute_result"
    }
   ],
   "source": [
    "from sklearn.metrics import confusion_matrix\n",
    "confusion_matrix(y_val,pred1_v)"
   ]
  },
  {
   "cell_type": "code",
   "execution_count": 98,
   "metadata": {
    "colab": {
     "base_uri": "https://localhost:8080/"
    },
    "id": "fg1c1lV6tuFP",
    "outputId": "61154132-e029-44c5-950a-3ff0df268653"
   },
   "outputs": [
    {
     "data": {
      "text/plain": [
       "0.699162271175923"
      ]
     },
     "execution_count": 98,
     "metadata": {},
     "output_type": "execute_result"
    }
   ],
   "source": [
    "from sklearn.metrics import mean_squared_error\n",
    "mean_squared_error(y_test, pred1)"
   ]
  },
  {
   "cell_type": "code",
   "execution_count": 99,
   "metadata": {
    "colab": {
     "base_uri": "https://localhost:8080/"
    },
    "id": "EVW-HXD0GfXC",
    "outputId": "23b8bd36-03aa-45bf-9ff3-ad58f250004d"
   },
   "outputs": [
    {
     "data": {
      "text/plain": [
       "0.6918528252299606"
      ]
     },
     "execution_count": 99,
     "metadata": {},
     "output_type": "execute_result"
    }
   ],
   "source": [
    "from sklearn.metrics import mean_squared_error\n",
    "mean_squared_error(y_val, pred1_v)"
   ]
  },
  {
   "cell_type": "code",
   "execution_count": 100,
   "metadata": {
    "colab": {
     "base_uri": "https://localhost:8080/"
    },
    "id": "vDW3qys4Ughm",
    "outputId": "75df99bf-0e2b-4031-a584-aca3e898d603"
   },
   "outputs": [
    {
     "data": {
      "text/plain": [
       "0.6853554861617333"
      ]
     },
     "execution_count": 100,
     "metadata": {},
     "output_type": "execute_result"
    }
   ],
   "source": [
    "from sklearn.metrics import f1_score\n",
    "f1_score(y_test, pred1, average='macro')"
   ]
  },
  {
   "cell_type": "code",
   "execution_count": 101,
   "metadata": {
    "colab": {
     "base_uri": "https://localhost:8080/"
    },
    "id": "-34vIKNLGjQ-",
    "outputId": "c53b74b2-21a0-46a0-fde7-2588e00fbce3"
   },
   "outputs": [
    {
     "data": {
      "text/plain": [
       "0.6912249927784235"
      ]
     },
     "execution_count": 101,
     "metadata": {},
     "output_type": "execute_result"
    }
   ],
   "source": [
    "from sklearn.metrics import f1_score\n",
    "f1_score(y_val, pred1_v, average='macro')"
   ]
  },
  {
   "cell_type": "code",
   "execution_count": 102,
   "metadata": {
    "colab": {
     "base_uri": "https://localhost:8080/"
    },
    "id": "doGsoVx8VaNb",
    "outputId": "72c90b60-26b5-41c6-d0ee-d4c4fb41fa2e"
   },
   "outputs": [
    {
     "data": {
      "text/plain": [
       "0.649960178040249"
      ]
     },
     "execution_count": 102,
     "metadata": {},
     "output_type": "execute_result"
    }
   ],
   "source": [
    "from sklearn import metrics\n",
    "fpr1, tpr1, thresholds1 = metrics.roc_curve(y_test, pred1, pos_label=2)\n",
    "metrics.auc(fpr1, tpr1)"
   ]
  },
  {
   "cell_type": "code",
   "execution_count": 103,
   "metadata": {
    "colab": {
     "base_uri": "https://localhost:8080/"
    },
    "id": "3kaXlTCcGohs",
    "outputId": "09a77e82-4930-41f3-fba3-b29474f18e30"
   },
   "outputs": [
    {
     "data": {
      "text/plain": [
       "0.6404443410492032"
      ]
     },
     "execution_count": 103,
     "metadata": {},
     "output_type": "execute_result"
    }
   ],
   "source": [
    "from sklearn import metrics\n",
    "fpr1_v, tpr1_v, thresholds1_v = metrics.roc_curve(y_val, pred1_v, pos_label=2)\n",
    "metrics.auc(fpr1_v, tpr1_v)"
   ]
  },
  {
   "cell_type": "code",
   "execution_count": 104,
   "metadata": {
    "colab": {
     "base_uri": "https://localhost:8080/"
    },
    "id": "HvJbnN6RWIrD",
    "outputId": "8b8981b2-417f-428d-b4b3-4fedfadf276b"
   },
   "outputs": [
    {
     "data": {
      "text/plain": [
       "0.8177474402730376"
      ]
     },
     "execution_count": 104,
     "metadata": {},
     "output_type": "execute_result"
    }
   ],
   "source": [
    "from sklearn.metrics import accuracy_score\n",
    "accuracy_score(y_test, pred1)"
   ]
  },
  {
   "cell_type": "code",
   "execution_count": 105,
   "metadata": {
    "colab": {
     "base_uri": "https://localhost:8080/"
    },
    "id": "mL30bm2RGx1M",
    "outputId": "ae7a79b1-c994-4a63-8fcb-1841a18be5be"
   },
   "outputs": [
    {
     "data": {
      "text/plain": [
       "0.8218900569426194"
      ]
     },
     "execution_count": 105,
     "metadata": {},
     "output_type": "execute_result"
    }
   ],
   "source": [
    "from sklearn.metrics import accuracy_score\n",
    "accuracy_score(y_val, pred1_v)"
   ]
  },
  {
   "cell_type": "code",
   "execution_count": 106,
   "metadata": {
    "colab": {
     "base_uri": "https://localhost:8080/"
    },
    "id": "sP5yVaOnptZX",
    "outputId": "e6db042e-1f14-4bb3-8b84-c3371d24bb46"
   },
   "outputs": [
    {
     "data": {
      "text/plain": [
       "0.7390954311714748"
      ]
     },
     "execution_count": 106,
     "metadata": {},
     "output_type": "execute_result"
    }
   ],
   "source": [
    "from sklearn.metrics import precision_score\n",
    "precision_score(y_test, pred1, average='macro')"
   ]
  },
  {
   "cell_type": "code",
   "execution_count": 107,
   "metadata": {
    "colab": {
     "base_uri": "https://localhost:8080/"
    },
    "id": "8UGX3cIkqH4F",
    "outputId": "5bdede3c-fa3c-4921-b7e9-c62e687e8a04"
   },
   "outputs": [
    {
     "data": {
      "text/plain": [
       "0.7569054910681504"
      ]
     },
     "execution_count": 107,
     "metadata": {},
     "output_type": "execute_result"
    }
   ],
   "source": [
    "from sklearn.metrics import precision_score\n",
    "precision_score(y_val, pred1_v, average='macro')"
   ]
  },
  {
   "cell_type": "code",
   "execution_count": 108,
   "metadata": {
    "colab": {
     "base_uri": "https://localhost:8080/"
    },
    "id": "_ZAtGBTZqusv",
    "outputId": "3927b116-2927-4854-fa68-8123bc0e67d4"
   },
   "outputs": [
    {
     "data": {
      "text/plain": [
       "0.6659568403620939"
      ]
     },
     "execution_count": 108,
     "metadata": {},
     "output_type": "execute_result"
    }
   ],
   "source": [
    "from sklearn.metrics import recall_score\n",
    "recall_score(y_test, pred1, average='macro')"
   ]
  },
  {
   "cell_type": "code",
   "execution_count": 109,
   "metadata": {
    "colab": {
     "base_uri": "https://localhost:8080/"
    },
    "id": "svG3IRHwq3v0",
    "outputId": "57e6ec57-6479-460f-cf3c-44b3483456d5"
   },
   "outputs": [
    {
     "data": {
      "text/plain": [
       "0.6677188938380835"
      ]
     },
     "execution_count": 109,
     "metadata": {},
     "output_type": "execute_result"
    }
   ],
   "source": [
    "from sklearn.metrics import recall_score\n",
    "recall_score(y_val, pred1_v, average='macro')"
   ]
  },
  {
   "cell_type": "code",
   "execution_count": 110,
   "metadata": {
    "colab": {
     "base_uri": "https://localhost:8080/"
    },
    "id": "BwKOWmDrliRW",
    "outputId": "513f29e4-e49b-4c17-8dd7-19315fe8999b"
   },
   "outputs": [
    {
     "data": {
      "text/plain": [
       "SGDClassifier()"
      ]
     },
     "execution_count": 110,
     "metadata": {},
     "output_type": "execute_result"
    }
   ],
   "source": [
    "from sklearn.linear_model import SGDClassifier\n",
    "h1b_SGD = SGDClassifier()\n",
    "h1b_SGD"
   ]
  },
  {
   "cell_type": "code",
   "execution_count": 111,
   "metadata": {
    "colab": {
     "base_uri": "https://localhost:8080/"
    },
    "id": "4oKpszQeJbKH",
    "outputId": "3796574a-eb70-4b2c-f2a6-5fa4f3cdbf5f"
   },
   "outputs": [
    {
     "data": {
      "text/plain": [
       "SGDClassifier()"
      ]
     },
     "execution_count": 111,
     "metadata": {},
     "output_type": "execute_result"
    }
   ],
   "source": [
    "h1b_SGD.fit(X_train,y_train)"
   ]
  },
  {
   "cell_type": "code",
   "execution_count": 112,
   "metadata": {
    "colab": {
     "base_uri": "https://localhost:8080/"
    },
    "id": "h8RXpqj4NxOK",
    "outputId": "c866a82c-ddbc-4d4f-d6c8-9cb5ca0d1d14"
   },
   "outputs": [
    {
     "data": {
      "text/plain": [
       "array([0, 0, 2, ..., 0, 3, 0])"
      ]
     },
     "execution_count": 112,
     "metadata": {},
     "output_type": "execute_result"
    }
   ],
   "source": [
    "pred2 = h1b_SGD.predict(X_test)\n",
    "pred2"
   ]
  },
  {
   "cell_type": "code",
   "execution_count": 113,
   "metadata": {
    "colab": {
     "base_uri": "https://localhost:8080/"
    },
    "id": "Eir4ymAhLr9R",
    "outputId": "7d19b6a5-0658-4c13-829a-29ca7aaf6c62"
   },
   "outputs": [
    {
     "data": {
      "text/plain": [
       "array([1, 0, 0, ..., 3, 0, 1])"
      ]
     },
     "execution_count": 113,
     "metadata": {},
     "output_type": "execute_result"
    }
   ],
   "source": [
    "pred2_v = h1b_SGD.predict(X_val)\n",
    "pred2_v"
   ]
  },
  {
   "cell_type": "code",
   "execution_count": 114,
   "metadata": {
    "colab": {
     "base_uri": "https://localhost:8080/"
    },
    "id": "LnbEdJEZN_In",
    "outputId": "29e6bbe7-f03c-4d85-8df5-cad523e7ae89"
   },
   "outputs": [
    {
     "name": "stdout",
     "output_type": "stream",
     "text": [
      "              precision    recall  f1-score   support\n",
      "\n",
      "           0       0.83      0.85      0.84      7491\n",
      "           1       0.79      0.92      0.85      5287\n",
      "           2       0.54      0.20      0.29       956\n",
      "           3       0.73      0.61      0.67      2381\n",
      "\n",
      "    accuracy                           0.80     16115\n",
      "   macro avg       0.72      0.64      0.66     16115\n",
      "weighted avg       0.79      0.80      0.79     16115\n",
      "\n"
     ]
    }
   ],
   "source": [
    "from sklearn.metrics import classification_report\n",
    "print(classification_report(y_test,pred2))"
   ]
  },
  {
   "cell_type": "code",
   "execution_count": 115,
   "metadata": {
    "colab": {
     "base_uri": "https://localhost:8080/"
    },
    "id": "TlHTEYDmLv6Y",
    "outputId": "2c436ab0-000e-42d0-9107-165e762af7d8"
   },
   "outputs": [
    {
     "name": "stdout",
     "output_type": "stream",
     "text": [
      "              precision    recall  f1-score   support\n",
      "\n",
      "           0       0.83      0.85      0.84      8441\n",
      "           1       0.79      0.92      0.85      6078\n",
      "           2       0.56      0.21      0.30      1070\n",
      "           3       0.74      0.59      0.66      2675\n",
      "\n",
      "    accuracy                           0.80     18264\n",
      "   macro avg       0.73      0.64      0.66     18264\n",
      "weighted avg       0.79      0.80      0.79     18264\n",
      "\n"
     ]
    }
   ],
   "source": [
    "from sklearn.metrics import classification_report\n",
    "print(classification_report(y_val,pred2_v))"
   ]
  },
  {
   "cell_type": "code",
   "execution_count": 116,
   "metadata": {
    "colab": {
     "base_uri": "https://localhost:8080/"
    },
    "id": "Tf1QazeWOd_i",
    "outputId": "bbe17765-c84d-46cf-981a-c61dbb4151e2"
   },
   "outputs": [
    {
     "data": {
      "text/plain": [
       "array([[6347,  898,   89,  157],\n",
       "       [ 366, 4860,   11,   50],\n",
       "       [ 368,   68,  190,  330],\n",
       "       [ 548,  312,   60, 1461]], dtype=int64)"
      ]
     },
     "execution_count": 116,
     "metadata": {},
     "output_type": "execute_result"
    }
   ],
   "source": [
    "from sklearn.metrics import confusion_matrix\n",
    "confusion_matrix(y_test,pred2)"
   ]
  },
  {
   "cell_type": "code",
   "execution_count": 117,
   "metadata": {
    "colab": {
     "base_uri": "https://localhost:8080/"
    },
    "id": "wzOVsu5sLzwb",
    "outputId": "3c7698f4-33f7-4a4f-cd09-b44de6375f99"
   },
   "outputs": [
    {
     "data": {
      "text/plain": [
       "array([[7170, 1036,   81,  154],\n",
       "       [ 391, 5620,    9,   58],\n",
       "       [ 412,  106,  222,  330],\n",
       "       [ 677,  336,   88, 1574]], dtype=int64)"
      ]
     },
     "execution_count": 117,
     "metadata": {},
     "output_type": "execute_result"
    }
   ],
   "source": [
    "from sklearn.metrics import confusion_matrix\n",
    "confusion_matrix(y_val,pred2_v)"
   ]
  },
  {
   "cell_type": "code",
   "execution_count": 118,
   "metadata": {
    "colab": {
     "base_uri": "https://localhost:8080/"
    },
    "id": "FzxQ34k1Tfim",
    "outputId": "33c6a553-84fe-4664-ea6e-55d758f7f790"
   },
   "outputs": [
    {
     "data": {
      "text/plain": [
       "0.7045609680421967"
      ]
     },
     "execution_count": 118,
     "metadata": {},
     "output_type": "execute_result"
    }
   ],
   "source": [
    "from sklearn.metrics import mean_squared_error\n",
    "mean_squared_error(y_test, pred2)"
   ]
  },
  {
   "cell_type": "code",
   "execution_count": 119,
   "metadata": {
    "colab": {
     "base_uri": "https://localhost:8080/"
    },
    "id": "mDeHxGkqL4GM",
    "outputId": "117f8d77-9d89-4235-ff2b-f0316309be4f"
   },
   "outputs": [
    {
     "data": {
      "text/plain": [
       "0.7110709592641261"
      ]
     },
     "execution_count": 119,
     "metadata": {},
     "output_type": "execute_result"
    }
   ],
   "source": [
    "from sklearn.metrics import mean_squared_error\n",
    "mean_squared_error(y_val, pred2_v)"
   ]
  },
  {
   "cell_type": "code",
   "execution_count": 120,
   "metadata": {
    "colab": {
     "base_uri": "https://localhost:8080/"
    },
    "id": "LDWgMK7nUbra",
    "outputId": "db24c027-8d18-4822-d557-50348d65280e"
   },
   "outputs": [
    {
     "data": {
      "text/plain": [
       "0.6621391351342817"
      ]
     },
     "execution_count": 120,
     "metadata": {},
     "output_type": "execute_result"
    }
   ],
   "source": [
    "from sklearn.metrics import f1_score\n",
    "f1_score(y_test, pred2, average='macro')"
   ]
  },
  {
   "cell_type": "code",
   "execution_count": 121,
   "metadata": {
    "colab": {
     "base_uri": "https://localhost:8080/"
    },
    "id": "T-l8y5gmL7ij",
    "outputId": "2d5b179a-006e-4128-b8a2-6e41fc647f8f"
   },
   "outputs": [
    {
     "data": {
      "text/plain": [
       "0.6628026045782813"
      ]
     },
     "execution_count": 121,
     "metadata": {},
     "output_type": "execute_result"
    }
   ],
   "source": [
    "from sklearn.metrics import f1_score\n",
    "f1_score(y_val, pred2_v, average='macro')"
   ]
  },
  {
   "cell_type": "code",
   "execution_count": 122,
   "metadata": {
    "colab": {
     "base_uri": "https://localhost:8080/"
    },
    "id": "82pyVdJmVhCk",
    "outputId": "58a2c0a0-d6c4-448f-e1c8-2a036165abe2"
   },
   "outputs": [
    {
     "data": {
      "text/plain": [
       "0.6425261820242391"
      ]
     },
     "execution_count": 122,
     "metadata": {},
     "output_type": "execute_result"
    }
   ],
   "source": [
    "from sklearn import metrics\n",
    "fpr2, tpr2, thresholds2 = metrics.roc_curve(y_test, pred2, pos_label=2)\n",
    "metrics.auc(fpr2, tpr2)"
   ]
  },
  {
   "cell_type": "code",
   "execution_count": 123,
   "metadata": {
    "colab": {
     "base_uri": "https://localhost:8080/"
    },
    "id": "gTBBBwxbL_l3",
    "outputId": "10d350f3-27a8-4f6b-d927-a9b076ae828a"
   },
   "outputs": [
    {
     "data": {
      "text/plain": [
       "0.6370935742635717"
      ]
     },
     "execution_count": 123,
     "metadata": {},
     "output_type": "execute_result"
    }
   ],
   "source": [
    "from sklearn import metrics\n",
    "fpr2_v, tpr2_v, thresholds2_v = metrics.roc_curve(y_val, pred2_v, pos_label=2)\n",
    "metrics.auc(fpr2_v, tpr2_v)"
   ]
  },
  {
   "cell_type": "code",
   "execution_count": 124,
   "metadata": {
    "colab": {
     "base_uri": "https://localhost:8080/"
    },
    "id": "t0KWtPdrWEcj",
    "outputId": "a3ec8f75-b35d-4f30-fd04-e9825f823613"
   },
   "outputs": [
    {
     "data": {
      "text/plain": [
       "0.7978901644430655"
      ]
     },
     "execution_count": 124,
     "metadata": {},
     "output_type": "execute_result"
    }
   ],
   "source": [
    "from sklearn.metrics import accuracy_score\n",
    "accuracy_score(y_test, pred2)"
   ]
  },
  {
   "cell_type": "code",
   "execution_count": 125,
   "metadata": {
    "colab": {
     "base_uri": "https://localhost:8080/"
    },
    "id": "cOKRTpxGMGuF",
    "outputId": "e7d219a6-25ed-4914-8795-b58dd0c0b0c2"
   },
   "outputs": [
    {
     "data": {
      "text/plain": [
       "0.7986202365308804"
      ]
     },
     "execution_count": 125,
     "metadata": {},
     "output_type": "execute_result"
    }
   ],
   "source": [
    "from sklearn.metrics import accuracy_score\n",
    "accuracy_score(y_val, pred2_v)"
   ]
  },
  {
   "cell_type": "code",
   "execution_count": 126,
   "metadata": {
    "colab": {
     "base_uri": "https://localhost:8080/"
    },
    "id": "8byxb1DVri6U",
    "outputId": "e661e3ae-1a3b-40aa-812c-0c6528879dcc"
   },
   "outputs": [
    {
     "data": {
      "text/plain": [
       "0.7244585591385154"
      ]
     },
     "execution_count": 126,
     "metadata": {},
     "output_type": "execute_result"
    }
   ],
   "source": [
    "from sklearn.metrics import precision_score\n",
    "precision_score(y_test, pred2, average='macro')"
   ]
  },
  {
   "cell_type": "code",
   "execution_count": 127,
   "metadata": {
    "colab": {
     "base_uri": "https://localhost:8080/"
    },
    "id": "2iq4-V01rn9o",
    "outputId": "b9d888d3-df67-4505-9827-a593295f635c"
   },
   "outputs": [
    {
     "data": {
      "text/plain": [
       "0.7298825992602821"
      ]
     },
     "execution_count": 127,
     "metadata": {},
     "output_type": "execute_result"
    }
   ],
   "source": [
    "from sklearn.metrics import precision_score\n",
    "precision_score(y_val, pred2_v, average='macro')"
   ]
  },
  {
   "cell_type": "code",
   "execution_count": 128,
   "metadata": {
    "colab": {
     "base_uri": "https://localhost:8080/"
    },
    "id": "shHYYjO9r99P",
    "outputId": "394e6cfd-42b3-45f7-f6b9-3811e9b77d6a"
   },
   "outputs": [
    {
     "data": {
      "text/plain": [
       "0.6447179415054709"
      ]
     },
     "execution_count": 128,
     "metadata": {},
     "output_type": "execute_result"
    }
   ],
   "source": [
    "from sklearn.metrics import recall_score\n",
    "recall_score(y_test, pred2, average='macro')"
   ]
  },
  {
   "cell_type": "code",
   "execution_count": 129,
   "metadata": {
    "colab": {
     "base_uri": "https://localhost:8080/"
    },
    "id": "_xA-vYp5sLlx",
    "outputId": "a430929a-fc01-49e2-eced-06ad15b19ed5"
   },
   "outputs": [
    {
     "data": {
      "text/plain": [
       "0.6424898848035324"
      ]
     },
     "execution_count": 129,
     "metadata": {},
     "output_type": "execute_result"
    }
   ],
   "source": [
    "from sklearn.metrics import recall_score\n",
    "recall_score(y_val, pred2_v, average='macro')"
   ]
  },
  {
   "cell_type": "code",
   "execution_count": 130,
   "metadata": {
    "colab": {
     "base_uri": "https://localhost:8080/"
    },
    "id": "jdaA3YPAmtMI",
    "outputId": "bad8a851-5396-40d0-b607-a28b97e57ce9"
   },
   "outputs": [
    {
     "data": {
      "text/plain": [
       "SGDClassifier(loss='log')"
      ]
     },
     "execution_count": 130,
     "metadata": {},
     "output_type": "execute_result"
    }
   ],
   "source": [
    "from sklearn.linear_model import SGDClassifier\n",
    "h1b_SGD1 = SGDClassifier(loss='log')\n",
    "h1b_SGD1"
   ]
  },
  {
   "cell_type": "code",
   "execution_count": 131,
   "metadata": {
    "colab": {
     "base_uri": "https://localhost:8080/"
    },
    "id": "7BYRmHtemy0x",
    "outputId": "f231a61d-07b2-4f83-8596-73a7bb3af6dc"
   },
   "outputs": [
    {
     "data": {
      "text/plain": [
       "SGDClassifier(loss='log')"
      ]
     },
     "execution_count": 131,
     "metadata": {},
     "output_type": "execute_result"
    }
   ],
   "source": [
    "h1b_SGD1.fit(X_train,y_train)"
   ]
  },
  {
   "cell_type": "code",
   "execution_count": 132,
   "metadata": {
    "colab": {
     "base_uri": "https://localhost:8080/"
    },
    "id": "58qb513WOtT9",
    "outputId": "9958f59a-683a-42a9-f4c2-9f8c527f5996"
   },
   "outputs": [
    {
     "data": {
      "text/plain": [
       "array([1, 0, 0, ..., 3, 0, 1])"
      ]
     },
     "execution_count": 132,
     "metadata": {},
     "output_type": "execute_result"
    }
   ],
   "source": [
    "pred3 = h1b_SGD1.predict(X_val)\n",
    "pred3"
   ]
  },
  {
   "cell_type": "code",
   "execution_count": 133,
   "metadata": {
    "colab": {
     "base_uri": "https://localhost:8080/"
    },
    "id": "bzJCRUb8FYS-",
    "outputId": "0e4625cf-979c-4759-c672-9ffac28b7d4c"
   },
   "outputs": [
    {
     "data": {
      "text/plain": [
       "array([[0.92678109, 0.04350293, 0.00909477, 0.02062121],\n",
       "       [0.89977304, 0.00736028, 0.05163892, 0.04122775],\n",
       "       [0.04366463, 0.55290355, 0.39159539, 0.01183644],\n",
       "       ...,\n",
       "       [0.76716421, 0.03335377, 0.18604956, 0.01343245],\n",
       "       [0.04498536, 0.11107385, 0.06018759, 0.7837532 ],\n",
       "       [0.38922187, 0.00338725, 0.27414209, 0.33324878]])"
      ]
     },
     "execution_count": 133,
     "metadata": {},
     "output_type": "execute_result"
    }
   ],
   "source": [
    "pred3_prob = h1b_SGD1.predict_proba(X_test)\n",
    "pred3_prob"
   ]
  },
  {
   "cell_type": "code",
   "execution_count": 134,
   "metadata": {
    "id": "bXoOjJ1OFkrT"
   },
   "outputs": [],
   "source": [
    "indexarray = np.argmax(pred3_prob,axis=1)"
   ]
  },
  {
   "cell_type": "code",
   "execution_count": 135,
   "metadata": {
    "id": "EVlkueOSFr4z"
   },
   "outputs": [
    {
     "data": {
      "text/plain": [
       "array([0, 1, 2, 3], dtype=int64)"
      ]
     },
     "execution_count": 135,
     "metadata": {},
     "output_type": "execute_result"
    }
   ],
   "source": [
    "np.unique(indexarray)"
   ]
  },
  {
   "cell_type": "code",
   "execution_count": 136,
   "metadata": {
    "id": "UsUP_CUOOwn_"
   },
   "outputs": [
    {
     "name": "stdout",
     "output_type": "stream",
     "text": [
      "              precision    recall  f1-score   support\n",
      "\n",
      "           0       0.85      0.82      0.83      8441\n",
      "           1       0.77      0.93      0.84      6078\n",
      "           2       0.60      0.23      0.33      1070\n",
      "           3       0.71      0.63      0.67      2675\n",
      "\n",
      "    accuracy                           0.79     18264\n",
      "   macro avg       0.73      0.65      0.67     18264\n",
      "weighted avg       0.79      0.79      0.78     18264\n",
      "\n"
     ]
    }
   ],
   "source": [
    "from sklearn.metrics import classification_report\n",
    "print(classification_report(y_val,pred3))"
   ]
  },
  {
   "cell_type": "code",
   "execution_count": 137,
   "metadata": {
    "id": "7EweOWJqO33_"
   },
   "outputs": [
    {
     "data": {
      "text/plain": [
       "array([[6948, 1188,   64,  241],\n",
       "       [ 352, 5624,    7,   95],\n",
       "       [ 339,  135,  247,  349],\n",
       "       [ 571,  329,   92, 1683]], dtype=int64)"
      ]
     },
     "execution_count": 137,
     "metadata": {},
     "output_type": "execute_result"
    }
   ],
   "source": [
    "from sklearn.metrics import confusion_matrix\n",
    "confusion_matrix(y_val,pred3)"
   ]
  },
  {
   "cell_type": "code",
   "execution_count": 138,
   "metadata": {
    "id": "onXpTyeBO9Fv"
   },
   "outputs": [
    {
     "data": {
      "text/plain": [
       "0.6974923346473938"
      ]
     },
     "execution_count": 138,
     "metadata": {},
     "output_type": "execute_result"
    }
   ],
   "source": [
    "from sklearn.metrics import mean_squared_error\n",
    "mean_squared_error(y_val, pred3)"
   ]
  },
  {
   "cell_type": "code",
   "execution_count": 139,
   "metadata": {
    "id": "mCQSlxePTlY2"
   },
   "outputs": [
    {
     "data": {
      "text/plain": [
       "0.66952063613246"
      ]
     },
     "execution_count": 139,
     "metadata": {},
     "output_type": "execute_result"
    }
   ],
   "source": [
    "from sklearn.metrics import f1_score\n",
    "f1_score(y_val, pred3, average='macro')"
   ]
  },
  {
   "cell_type": "code",
   "execution_count": 140,
   "metadata": {
    "id": "pBEQ4o-1UXrx"
   },
   "outputs": [
    {
     "data": {
      "text/plain": [
       "0.6661322847896299"
      ]
     },
     "execution_count": 140,
     "metadata": {},
     "output_type": "execute_result"
    }
   ],
   "source": [
    "from sklearn import metrics\n",
    "fpr3, tpr3, thresholds3 = metrics.roc_curve(y_val, pred3, pos_label=2)\n",
    "metrics.auc(fpr3, tpr3)"
   ]
  },
  {
   "cell_type": "code",
   "execution_count": 141,
   "metadata": {
    "id": "ga390gsEVr7p"
   },
   "outputs": [
    {
     "data": {
      "text/plain": [
       "0.7940210249671484"
      ]
     },
     "execution_count": 141,
     "metadata": {},
     "output_type": "execute_result"
    }
   ],
   "source": [
    "from sklearn.metrics import accuracy_score\n",
    "accuracy_score(y_val, pred3)"
   ]
  },
  {
   "cell_type": "code",
   "execution_count": 142,
   "metadata": {
    "id": "CmAg_Z6pokHD"
   },
   "outputs": [
    {
     "data": {
      "text/plain": [
       "0.6521073996424244"
      ]
     },
     "execution_count": 142,
     "metadata": {},
     "output_type": "execute_result"
    }
   ],
   "source": [
    "from sklearn.metrics import recall_score\n",
    "recall_score(y_val, pred3, average='macro')"
   ]
  },
  {
   "cell_type": "code",
   "execution_count": 143,
   "metadata": {
    "id": "q791iF9epOTS"
   },
   "outputs": [
    {
     "data": {
      "text/plain": [
       "0.733100641383703"
      ]
     },
     "execution_count": 143,
     "metadata": {},
     "output_type": "execute_result"
    }
   ],
   "source": [
    "from sklearn.metrics import precision_score\n",
    "precision_score(y_val, pred3, average='macro')"
   ]
  },
  {
   "cell_type": "markdown",
   "metadata": {
    "id": "8wrPSecGJ5Ck"
   },
   "source": [
    "# New Section"
   ]
  },
  {
   "cell_type": "code",
   "execution_count": 144,
   "metadata": {
    "id": "NsTi7yn0V9zW"
   },
   "outputs": [
    {
     "data": {
      "image/png": "[encoded data removed]",
      "text/plain": [
       "<Figure size 1008x1008 with 1 Axes>"
      ]
     },
     "metadata": {
      "needs_background": "light"
     },
     "output_type": "display_data"
    }
   ],
   "source": [
    "from sklearn.tree import DecisionTreeClassifier\n",
    "\n",
    "from sklearn.tree import export_graphviz\n",
    "\n",
    "from sklearn.tree import export_text\n",
    "\n",
    "from sklearn import tree\n",
    "\n",
    "from IPython.display import Image\n",
    "\n",
    " \n",
    "\n",
    "dt = tree.DecisionTreeClassifier() #create model\n",
    "\n",
    "fig, ax = plt.subplots(figsize=(14, 14))\n",
    "\n",
    "tree.plot_tree(dt.fit(X_train, y_train), max_depth=4, fontsize=10,filled=True) #train model\n",
    "\n",
    "plt.show()"
   ]
  },
  {
   "cell_type": "code",
   "execution_count": 145,
   "metadata": {
    "id": "or434cY6Jzku"
   },
   "outputs": [
    {
     "name": "stdout",
     "output_type": "stream",
     "text": [
      "test [0 0 1 1 1 1 2 1 0 0]\n",
      "pred [0 0 1 1 1 0 1 1 0 0]\n",
      "\n",
      "[[6825  130  268  268]\n",
      " [ 177 4960   15  135]\n",
      " [ 252   27  375  302]\n",
      " [ 228  141  220 1792]]\n",
      "              precision    recall  f1-score   support\n",
      "\n",
      "           0       0.91      0.91      0.91      7491\n",
      "           1       0.94      0.94      0.94      5287\n",
      "           2       0.43      0.39      0.41       956\n",
      "           3       0.72      0.75      0.73      2381\n",
      "\n",
      "    accuracy                           0.87     16115\n",
      "   macro avg       0.75      0.75      0.75     16115\n",
      "weighted avg       0.86      0.87      0.87     16115\n",
      "\n"
     ]
    }
   ],
   "source": [
    "y_pred = dt.predict(X_test)\n",
    "\n",
    " \n",
    "\n",
    "y_prob = dt.predict_proba(X_test)\n",
    "\n",
    " \n",
    "\n",
    "print(\"test\", y_test[:10])\n",
    "\n",
    "print(\"pred\", y_pred[:10])\n",
    "\n",
    "print()\n",
    "\n",
    " \n",
    "\n",
    "print(confusion_matrix(y_test,y_pred))\n",
    "\n",
    "print(classification_report(y_test, y_pred))"
   ]
  },
  {
   "cell_type": "code",
   "execution_count": 146,
   "metadata": {
    "id": "-9vyEbmGKMJE"
   },
   "outputs": [
    {
     "name": "stdout",
     "output_type": "stream",
     "text": [
      "test [1 0 0 1 3 1 0 1 0 0]\n",
      "pred [1 0 0 1 3 3 0 1 0 0]\n",
      "\n",
      "[[7704  183  273  281]\n",
      " [ 214 5672   32  160]\n",
      " [ 302   41  425  302]\n",
      " [ 286  148  256 1985]]\n",
      "              precision    recall  f1-score   support\n",
      "\n",
      "           0       0.91      0.91      0.91      8441\n",
      "           1       0.94      0.93      0.94      6078\n",
      "           2       0.43      0.40      0.41      1070\n",
      "           3       0.73      0.74      0.73      2675\n",
      "\n",
      "    accuracy                           0.86     18264\n",
      "   macro avg       0.75      0.75      0.75     18264\n",
      "weighted avg       0.86      0.86      0.86     18264\n",
      "\n"
     ]
    }
   ],
   "source": [
    "y_pred2 = dt.predict(X_val)\n",
    "y_prob = dt.predict_proba(X_val)\n",
    "print(\"test\", y_val[:10])\n",
    "print(\"pred\", y_pred2[:10])\n",
    "print()\n",
    "\n",
    "print(confusion_matrix(y_val,y_pred2))\n",
    "print(classification_report(y_val, y_pred2))"
   ]
  },
  {
   "cell_type": "code",
   "execution_count": 147,
   "metadata": {
    "id": "wMPqupnHKQls"
   },
   "outputs": [
    {
     "data": {
      "text/plain": [
       "0.864323258869908"
      ]
     },
     "execution_count": 147,
     "metadata": {},
     "output_type": "execute_result"
    }
   ],
   "source": [
    "from sklearn.metrics import accuracy_score\n",
    "\n",
    "accuracy_score(y_val, y_pred2)"
   ]
  },
  {
   "cell_type": "code",
   "execution_count": 148,
   "metadata": {
    "id": "jByfHET1KzXy"
   },
   "outputs": [
    {
     "data": {
      "text/plain": [
       "(18264,)"
      ]
     },
     "execution_count": 148,
     "metadata": {},
     "output_type": "execute_result"
    }
   ],
   "source": [
    "y_val.shape"
   ]
  },
  {
   "cell_type": "code",
   "execution_count": 149,
   "metadata": {
    "id": "OkK_atq9K2Mv"
   },
   "outputs": [
    {
     "data": {
      "text/plain": [
       "(16115,)"
      ]
     },
     "execution_count": 149,
     "metadata": {},
     "output_type": "execute_result"
    }
   ],
   "source": [
    "y_test.shape"
   ]
  },
  {
   "cell_type": "code",
   "execution_count": 150,
   "metadata": {
    "id": "miOYSaodK9MC"
   },
   "outputs": [
    {
     "data": {
      "text/plain": [
       "(16115,)"
      ]
     },
     "execution_count": 150,
     "metadata": {},
     "output_type": "execute_result"
    }
   ],
   "source": [
    "y_pred.shape"
   ]
  },
  {
   "cell_type": "code",
   "execution_count": 151,
   "metadata": {
    "id": "RUlsUwkrKpQ-"
   },
   "outputs": [
    {
     "data": {
      "text/plain": [
       "0.864323258869908"
      ]
     },
     "execution_count": 151,
     "metadata": {},
     "output_type": "execute_result"
    }
   ],
   "source": [
    "from sklearn.metrics import accuracy_score\n",
    "\n",
    "accuracy_score(y_val, y_pred2)"
   ]
  },
  {
   "cell_type": "code",
   "execution_count": 152,
   "metadata": {
    "id": "Kw0AxuBaMyGt"
   },
   "outputs": [
    {
     "data": {
      "text/plain": [
       "0.5286379149860378"
      ]
     },
     "execution_count": 152,
     "metadata": {},
     "output_type": "execute_result"
    }
   ],
   "source": [
    "from sklearn.metrics import mean_squared_error\n",
    "mean_squared_error(y_test, y_pred)"
   ]
  },
  {
   "cell_type": "code",
   "execution_count": 153,
   "metadata": {
    "id": "c0ClGA3RM3eW"
   },
   "outputs": [
    {
     "data": {
      "text/plain": [
       "0.5290735873850198"
      ]
     },
     "execution_count": 153,
     "metadata": {},
     "output_type": "execute_result"
    }
   ],
   "source": [
    "from sklearn.metrics import mean_squared_error\n",
    "mean_squared_error(y_val, y_pred2)"
   ]
  },
  {
   "cell_type": "code",
   "execution_count": 154,
   "metadata": {
    "id": "AbX0p-RPM952"
   },
   "outputs": [
    {
     "data": {
      "text/plain": [
       "0.7031856325736593"
      ]
     },
     "execution_count": 154,
     "metadata": {},
     "output_type": "execute_result"
    }
   ],
   "source": [
    "from sklearn import metrics\n",
    "\n",
    "fpr, tpr, thresholds = metrics.roc_curve(y_test, y_pred, pos_label=2)\n",
    "\n",
    "metrics.auc(fpr, tpr)"
   ]
  },
  {
   "cell_type": "code",
   "execution_count": 155,
   "metadata": {
    "id": "XXBWRq7zNgoq"
   },
   "outputs": [
    {
     "data": {
      "text/plain": [
       "0.6893123443409405"
      ]
     },
     "execution_count": 155,
     "metadata": {},
     "output_type": "execute_result"
    }
   ],
   "source": [
    "from sklearn import metrics\n",
    "\n",
    "fprdv, tprdv, thresholdsdv = metrics.roc_curve(y_val,y_pred2, pos_label=2)\n",
    "\n",
    "metrics.auc(fprdv, tprdv)"
   ]
  },
  {
   "cell_type": "code",
   "execution_count": 156,
   "metadata": {
    "id": "VnHX_HXiNQRm"
   },
   "outputs": [
    {
     "data": {
      "text/plain": [
       "0.7490101769283986"
      ]
     },
     "execution_count": 156,
     "metadata": {},
     "output_type": "execute_result"
    }
   ],
   "source": [
    "from sklearn.metrics import f1_score\n",
    "\n",
    "f1_score(y_test, y_pred, average='macro')"
   ]
  },
  {
   "cell_type": "code",
   "execution_count": 157,
   "metadata": {
    "id": "QZ3y1rvzNqHx"
   },
   "outputs": [
    {
     "data": {
      "text/plain": [
       "0.7483019347074875"
      ]
     },
     "execution_count": 157,
     "metadata": {},
     "output_type": "execute_result"
    }
   ],
   "source": [
    "from sklearn.metrics import f1_score\n",
    "\n",
    "f1_score(y_val, y_pred2, average='macro')"
   ]
  },
  {
   "cell_type": "code",
   "execution_count": 158,
   "metadata": {
    "id": "D-LFIBwqNVk4"
   },
   "outputs": [
    {
     "data": {
      "text/plain": [
       "0.7500704917786123"
      ]
     },
     "execution_count": 158,
     "metadata": {},
     "output_type": "execute_result"
    }
   ],
   "source": [
    "from sklearn.metrics import precision_score\n",
    "\n",
    "precision_score(y_test, y_pred, labels=None, pos_label=1, average='macro', sample_weight=None, zero_division='warn')"
   ]
  },
  {
   "cell_type": "code",
   "execution_count": 159,
   "metadata": {
    "id": "exQ06IxGNuT5"
   },
   "outputs": [
    {
     "data": {
      "text/plain": [
       "0.7507096873958239"
      ]
     },
     "execution_count": 159,
     "metadata": {},
     "output_type": "execute_result"
    }
   ],
   "source": [
    "from sklearn.metrics import precision_score\n",
    "\n",
    "precision_score(y_val, y_pred2, labels=None, pos_label=1, average='macro', sample_weight=None, zero_division='warn')"
   ]
  },
  {
   "cell_type": "code",
   "execution_count": 160,
   "metadata": {
    "id": "BDJ0R9ZMNZr5"
   },
   "outputs": [
    {
     "data": {
      "text/plain": [
       "0.7485319633468457"
      ]
     },
     "execution_count": 160,
     "metadata": {},
     "output_type": "execute_result"
    }
   ],
   "source": [
    "from sklearn.metrics import recall_score\n",
    "\n",
    "recall_score(y_test, y_pred, labels=None, pos_label=1, average='macro', sample_weight=None, zero_division='warn')"
   ]
  },
  {
   "cell_type": "code",
   "execution_count": 161,
   "metadata": {
    "id": "A0nZ9D8KNyxY"
   },
   "outputs": [
    {
     "data": {
      "text/plain": [
       "0.7462855294179107"
      ]
     },
     "execution_count": 161,
     "metadata": {},
     "output_type": "execute_result"
    }
   ],
   "source": [
    "from sklearn.metrics import recall_score\n",
    "\n",
    "recall_score(y_val, y_pred2, labels=None, pos_label=1, average='macro', sample_weight=None, zero_division='warn')"
   ]
  },
  {
   "cell_type": "code",
   "execution_count": 162,
   "metadata": {
    "id": "toI-MzgDiq-E"
   },
   "outputs": [],
   "source": [
    "from sklearn.ensemble import RandomForestClassifier # <- Random Forest Classifier"
   ]
  },
  {
   "cell_type": "code",
   "execution_count": 163,
   "metadata": {
    "colab": {
     "base_uri": "https://localhost:8080/"
    },
    "id": "8JOXuOyUoHpp",
    "outputId": "9b7735c4-7c15-4abc-8afd-51f9fb114004"
   },
   "outputs": [
    {
     "data": {
      "text/plain": [
       "RandomForestClassifier(n_estimators=75, random_state=50)"
      ]
     },
     "execution_count": 163,
     "metadata": {},
     "output_type": "execute_result"
    }
   ],
   "source": [
    "rf = RandomForestClassifier(n_estimators = 75, random_state = 50) #Build (no. of estimators can be increased)\n",
    "# Train the model on training data\n",
    "rf.fit(X_train, y_train)"
   ]
  },
  {
   "cell_type": "code",
   "execution_count": 164,
   "metadata": {
    "colab": {
     "base_uri": "https://localhost:8080/"
    },
    "id": "7G5O1_Q3oZ07",
    "outputId": "e39a93a8-868d-4391-a228-7a7795c4c779"
   },
   "outputs": [
    {
     "name": "stdout",
     "output_type": "stream",
     "text": [
      "test [1 0 0 1 3 1 0 1 0 0]\n",
      "pred [1 0 0 1 3 1 0 1 0 0]\n",
      "[[8163  152   27   99]\n",
      " [ 274 5776    2   26]\n",
      " [ 436   31  300  303]\n",
      " [ 449  196   87 1943]]\n",
      "              precision    recall  f1-score   support\n",
      "\n",
      "           0       0.88      0.97      0.92      8441\n",
      "           1       0.94      0.95      0.94      6078\n",
      "           2       0.72      0.28      0.40      1070\n",
      "           3       0.82      0.73      0.77      2675\n",
      "\n",
      "    accuracy                           0.89     18264\n",
      "   macro avg       0.84      0.73      0.76     18264\n",
      "weighted avg       0.88      0.89      0.88     18264\n",
      "\n"
     ]
    }
   ],
   "source": [
    "y_pred_rf =  rf.predict(X_val) #Predict\n",
    "probs = rf.predict_proba(X_val)\n",
    "\n",
    "print(\"test\", y_val[:10])\n",
    "print(\"pred\", y_pred_rf[:10])\n",
    "print(confusion_matrix(y_val,y_pred_rf))\n",
    "print(classification_report(y_val, y_pred_rf))"
   ]
  },
  {
   "cell_type": "code",
   "execution_count": 165,
   "metadata": {
    "colab": {
     "base_uri": "https://localhost:8080/"
    },
    "id": "GpSuXau8emCy",
    "outputId": "6f270288-197c-4fc2-84e6-5edf04e77530"
   },
   "outputs": [
    {
     "name": "stdout",
     "output_type": "stream",
     "text": [
      "test [0 0 1 1 1 1 2 1 0 0]\n",
      "pred [0 0 1 1 1 0 0 0 0 0]\n",
      "[[7213  147   36   95]\n",
      " [ 254 5015    5   13]\n",
      " [ 384    9  269  294]\n",
      " [ 384  169   65 1763]]\n",
      "              precision    recall  f1-score   support\n",
      "\n",
      "           0       0.88      0.96      0.92      7491\n",
      "           1       0.94      0.95      0.94      5287\n",
      "           2       0.72      0.28      0.40       956\n",
      "           3       0.81      0.74      0.78      2381\n",
      "\n",
      "    accuracy                           0.88     16115\n",
      "   macro avg       0.84      0.73      0.76     16115\n",
      "weighted avg       0.88      0.88      0.87     16115\n",
      "\n"
     ]
    }
   ],
   "source": [
    "y_pred_rf2 =  rf.predict(X_test) #Predict\n",
    "probs = rf.predict_proba(X_test)\n",
    "\n",
    "print(\"test\", y_test[:10])\n",
    "print(\"pred\", y_pred_rf2[:10])\n",
    "print(confusion_matrix(y_test,y_pred_rf2))\n",
    "print(classification_report(y_test, y_pred_rf2))"
   ]
  },
  {
   "cell_type": "code",
   "execution_count": 166,
   "metadata": {
    "colab": {
     "base_uri": "https://localhost:8080/"
    },
    "id": "Yz0Xz-xto4p3",
    "outputId": "bfe3e320-88d6-4730-9166-1fc6515f061b"
   },
   "outputs": [
    {
     "data": {
      "text/plain": [
       "0.46654621112571176"
      ]
     },
     "execution_count": 166,
     "metadata": {},
     "output_type": "execute_result"
    }
   ],
   "source": [
    "from sklearn.metrics import mean_squared_error\n",
    "mean_squared_error(y_val, y_pred_rf)"
   ]
  },
  {
   "cell_type": "code",
   "execution_count": 167,
   "metadata": {
    "colab": {
     "base_uri": "https://localhost:8080/"
    },
    "id": "A8rF-GvSdHEc",
    "outputId": "8bd47bb3-ec38-4c74-d00c-a46c689def9b"
   },
   "outputs": [
    {
     "data": {
      "text/plain": [
       "0.4649705243561899"
      ]
     },
     "execution_count": 167,
     "metadata": {},
     "output_type": "execute_result"
    }
   ],
   "source": [
    "from sklearn.metrics import mean_squared_error\n",
    "mean_squared_error(y_test, y_pred_rf2)"
   ]
  },
  {
   "cell_type": "code",
   "execution_count": 168,
   "metadata": {
    "colab": {
     "base_uri": "https://localhost:8080/"
    },
    "id": "doK9bksFo_td",
    "outputId": "3e1a60bc-2a09-499e-f5a6-34482a1f5879"
   },
   "outputs": [
    {
     "data": {
      "text/plain": [
       "0.6372803379574923"
      ]
     },
     "execution_count": 168,
     "metadata": {},
     "output_type": "execute_result"
    }
   ],
   "source": [
    "from sklearn import metrics\n",
    "fpr, tpr, thresholds = metrics.roc_curve(y_val, y_pred_rf, pos_label=2)\n",
    "metrics.auc(fpr, tpr)"
   ]
  },
  {
   "cell_type": "code",
   "execution_count": 169,
   "metadata": {
    "colab": {
     "base_uri": "https://localhost:8080/"
    },
    "id": "Ha9mlfrFdrgQ",
    "outputId": "e51018ab-4adb-4257-fc57-029537c1f216"
   },
   "outputs": [
    {
     "data": {
      "text/plain": [
       "0.6447669004231574"
      ]
     },
     "execution_count": 169,
     "metadata": {},
     "output_type": "execute_result"
    }
   ],
   "source": [
    "from sklearn import metrics\n",
    "fpr, tpr, thresholds = metrics.roc_curve(y_test, y_pred_rf2, pos_label=2)\n",
    "metrics.auc(fpr, tpr)"
   ]
  },
  {
   "cell_type": "code",
   "execution_count": 170,
   "metadata": {
    "colab": {
     "base_uri": "https://localhost:8080/"
    },
    "id": "Hk2A3xdtpHac",
    "outputId": "1d71601d-e9e6-4cab-b017-3adf0298485d"
   },
   "outputs": [
    {
     "data": {
      "text/plain": [
       "0.7593289649772172"
      ]
     },
     "execution_count": 170,
     "metadata": {},
     "output_type": "execute_result"
    }
   ],
   "source": [
    "from sklearn.metrics import f1_score\n",
    "f1_score(y_val, y_pred_rf, average='macro')"
   ]
  },
  {
   "cell_type": "code",
   "execution_count": 171,
   "metadata": {
    "colab": {
     "base_uri": "https://localhost:8080/"
    },
    "id": "fKhgCjBId_zS",
    "outputId": "6ed2c343-ce2f-487b-df7c-fa790edd19ca"
   },
   "outputs": [
    {
     "data": {
      "text/plain": [
       "0.760247744433787"
      ]
     },
     "execution_count": 171,
     "metadata": {},
     "output_type": "execute_result"
    }
   ],
   "source": [
    "from sklearn.metrics import f1_score\n",
    "f1_score(y_test, y_pred_rf2, average='macro')"
   ]
  },
  {
   "cell_type": "code",
   "execution_count": 172,
   "metadata": {
    "colab": {
     "base_uri": "https://localhost:8080/"
    },
    "id": "5J78Pyx9p5uG",
    "outputId": "f559afd7-78a1-4b3c-8cbb-01f8bdf06d16"
   },
   "outputs": [
    {
     "data": {
      "text/plain": [
       "0.8860052562417872"
      ]
     },
     "execution_count": 172,
     "metadata": {},
     "output_type": "execute_result"
    }
   ],
   "source": [
    "from sklearn.metrics import accuracy_score\n",
    "accuracy_score(y_val, y_pred_rf)"
   ]
  },
  {
   "cell_type": "code",
   "execution_count": 173,
   "metadata": {
    "colab": {
     "base_uri": "https://localhost:8080/"
    },
    "id": "AedOJZeJeNgZ",
    "outputId": "ecde5ef9-2898-4119-e952-d6f335b92aad"
   },
   "outputs": [
    {
     "data": {
      "text/plain": [
       "0.8848898541731306"
      ]
     },
     "execution_count": 173,
     "metadata": {},
     "output_type": "execute_result"
    }
   ],
   "source": [
    "from sklearn.metrics import accuracy_score\n",
    "accuracy_score(y_test, y_pred_rf2)"
   ]
  },
  {
   "cell_type": "code",
   "execution_count": 174,
   "metadata": {
    "colab": {
     "base_uri": "https://localhost:8080/"
    },
    "id": "RhFUVvVjqG-e",
    "outputId": "51a19700-95bc-4d4d-9048-430d356642b1"
   },
   "outputs": [
    {
     "data": {
      "text/plain": [
       "0.8386834494515897"
      ]
     },
     "execution_count": 174,
     "metadata": {},
     "output_type": "execute_result"
    }
   ],
   "source": [
    "from sklearn.metrics import precision_score\n",
    "precision_score(y_val, y_pred_rf, labels=None, pos_label=1, average='macro', sample_weight=None, zero_division='warn')"
   ]
  },
  {
   "cell_type": "code",
   "execution_count": 175,
   "metadata": {
    "colab": {
     "base_uri": "https://localhost:8080/"
    },
    "id": "Q45WsLODerNs",
    "outputId": "9c8eee97-b4ad-4db9-a63b-085c22cd26e2"
   },
   "outputs": [
    {
     "data": {
      "text/plain": [
       "0.8366715461271663"
      ]
     },
     "execution_count": 175,
     "metadata": {},
     "output_type": "execute_result"
    }
   ],
   "source": [
    "from sklearn.metrics import precision_score\n",
    "precision_score(y_test, y_pred_rf2, labels=None, pos_label=1, average='macro', sample_weight=None, zero_division='warn')"
   ]
  },
  {
   "cell_type": "code",
   "execution_count": 176,
   "metadata": {
    "colab": {
     "base_uri": "https://localhost:8080/"
    },
    "id": "FCmhzObjqTsl",
    "outputId": "18cd17d6-1e48-416d-e906-15dfd7b7caa5"
   },
   "outputs": [
    {
     "data": {
      "text/plain": [
       "0.7310267720893096"
      ]
     },
     "execution_count": 176,
     "metadata": {},
     "output_type": "execute_result"
    }
   ],
   "source": [
    "from sklearn.metrics import recall_score\n",
    "recall_score(y_val, y_pred_rf, labels=None, pos_label=1, average='macro', sample_weight=None, zero_division='warn')"
   ]
  },
  {
   "cell_type": "code",
   "execution_count": 177,
   "metadata": {
    "colab": {
     "base_uri": "https://localhost:8080/"
    },
    "id": "iW44ZBldfGR8",
    "outputId": "87421fc0-b204-49f5-d5a2-439f3c7a2fa1"
   },
   "outputs": [
    {
     "data": {
      "text/plain": [
       "0.7333169496974595"
      ]
     },
     "execution_count": 177,
     "metadata": {},
     "output_type": "execute_result"
    }
   ],
   "source": [
    "from sklearn.metrics import recall_score\n",
    "recall_score(y_test, y_pred_rf2, labels=None, pos_label=1, average='macro', sample_weight=None, zero_division='warn')"
   ]
  },
  {
   "cell_type": "code",
   "execution_count": 178,
   "metadata": {
    "id": "7YkzJSGQqiC7"
   },
   "outputs": [],
   "source": [
    "from sklearn.ensemble import GradientBoostingClassifier\n",
    "from sklearn import metrics"
   ]
  },
  {
   "cell_type": "code",
   "execution_count": 179,
   "metadata": {
    "id": "LysgQc_0qo90"
   },
   "outputs": [
    {
     "data": {
      "text/plain": [
       "GradientBoostingClassifier(n_estimators=75, random_state=50)"
      ]
     },
     "execution_count": 179,
     "metadata": {},
     "output_type": "execute_result"
    }
   ],
   "source": [
    "gb = GradientBoostingClassifier(n_estimators = 75, random_state = 50)\n",
    "gb.fit(X_train, y_train)"
   ]
  },
  {
   "cell_type": "code",
   "execution_count": 180,
   "metadata": {
    "id": "26InXuW1q07Y"
   },
   "outputs": [
    {
     "name": "stdout",
     "output_type": "stream",
     "text": [
      "test [1 0 0 1 3 1 0 1 0 0]\n",
      "pred [1 0 0 0 1 1 0 1 0 0]\n",
      "[[8022  276   26  117]\n",
      " [ 559 5487    5   27]\n",
      " [ 510   32  244  284]\n",
      " [ 664  256   63 1692]]\n",
      "              precision    recall  f1-score   support\n",
      "\n",
      "           0       0.82      0.95      0.88      8441\n",
      "           1       0.91      0.90      0.90      6078\n",
      "           2       0.72      0.23      0.35      1070\n",
      "           3       0.80      0.63      0.71      2675\n",
      "\n",
      "    accuracy                           0.85     18264\n",
      "   macro avg       0.81      0.68      0.71     18264\n",
      "weighted avg       0.84      0.85      0.83     18264\n",
      "\n"
     ]
    }
   ],
   "source": [
    "y_pred_gb = gb.predict(X_val)\n",
    "gb_probs = gb.predict_proba(X_val)\n",
    "\n",
    "print(\"test\", y_val[:10])\n",
    "print(\"pred\", y_pred_gb[:10])\n",
    "print(confusion_matrix(y_val,y_pred_gb))\n",
    "print(classification_report(y_val, y_pred_gb))"
   ]
  },
  {
   "cell_type": "code",
   "execution_count": 181,
   "metadata": {
    "id": "yH4z38zbrHcY"
   },
   "outputs": [
    {
     "data": {
      "text/plain": [
       "0.6309680245291284"
      ]
     },
     "execution_count": 181,
     "metadata": {},
     "output_type": "execute_result"
    }
   ],
   "source": [
    "from sklearn.metrics import mean_squared_error\n",
    "mean_squared_error(y_val, y_pred_gb)"
   ]
  },
  {
   "cell_type": "code",
   "execution_count": 182,
   "metadata": {
    "id": "_nBR0BeUrPWS"
   },
   "outputs": [
    {
     "data": {
      "text/plain": [
       "0.6037689196079049"
      ]
     },
     "execution_count": 182,
     "metadata": {},
     "output_type": "execute_result"
    }
   ],
   "source": [
    "from sklearn import metrics\n",
    "fpr, tpr, thresholds = metrics.roc_curve(y_val, y_pred_gb, pos_label=2)\n",
    "metrics.auc(fpr, tpr)"
   ]
  },
  {
   "cell_type": "code",
   "execution_count": 183,
   "metadata": {
    "id": "ZHfdOxhas5eg"
   },
   "outputs": [
    {
     "data": {
      "text/plain": [
       "0.7097079954042944"
      ]
     },
     "execution_count": 183,
     "metadata": {},
     "output_type": "execute_result"
    }
   ],
   "source": [
    "from sklearn.metrics import f1_score\n",
    "f1_score(y_val, y_pred_gb, average='macro')"
   ]
  },
  {
   "cell_type": "code",
   "execution_count": 184,
   "metadata": {
    "id": "r_UcEluis_4l"
   },
   "outputs": [
    {
     "data": {
      "text/plain": [
       "0.845652650021901"
      ]
     },
     "execution_count": 184,
     "metadata": {},
     "output_type": "execute_result"
    }
   ],
   "source": [
    "from sklearn.metrics import accuracy_score\n",
    "accuracy_score(y_val, y_pred_gb)"
   ]
  },
  {
   "cell_type": "code",
   "execution_count": 185,
   "metadata": {
    "id": "vdeLQZ1AtFzC"
   },
   "outputs": [
    {
     "data": {
      "text/plain": [
       "0.8122866196269914"
      ]
     },
     "execution_count": 185,
     "metadata": {},
     "output_type": "execute_result"
    }
   ],
   "source": [
    "from sklearn.metrics import precision_score\n",
    "precision_score(y_val, y_pred_gb, labels=None, pos_label=1, average='macro', sample_weight=None, zero_division='warn')\n"
   ]
  },
  {
   "cell_type": "code",
   "execution_count": 186,
   "metadata": {
    "id": "E3ZGcKOxtKPJ"
   },
   "outputs": [
    {
     "data": {
      "text/plain": [
       "0.6784215365966696"
      ]
     },
     "execution_count": 186,
     "metadata": {},
     "output_type": "execute_result"
    }
   ],
   "source": [
    "from sklearn.metrics import recall_score\n",
    "recall_score(y_val, y_pred_gb, labels=None, pos_label=1, average='macro', sample_weight=None, zero_division='warn')"
   ]
  },
  {
   "cell_type": "code",
   "execution_count": 187,
   "metadata": {
    "id": "wWpsC85RxDpe"
   },
   "outputs": [],
   "source": [
    "#from sklearn.svm import SVC\n",
    "\n",
    "#svm_clf = SVC(gamma=\"auto\")\n",
    "#svm_clf.fit(X_train, y_train)"
   ]
  },
  {
   "cell_type": "code",
   "execution_count": 188,
   "metadata": {
    "id": "Pi8F_2oh8l80"
   },
   "outputs": [],
   "source": [
    "#y_pred_sv =  svm_clf.predict(X_val) #Predict\n",
    "\n",
    "#print(\"test\", y_val[:10])\n",
    "#print(\"pred\", y_pred_sv[:10])\n",
    "#print(confusion_matrix(y_val,y_pred_sv))\n",
    "#print(classification_report(y_val, y_pred_sv))"
   ]
  }
 ],
 "metadata": {
  "colab": {
   "collapsed_sections": [],
   "name": "Copy of H1BProcessing.ipynb",
   "provenance": []
  },
  "kernelspec": {
   "display_name": "Python 3",
   "language": "python",
   "name": "python3"
  },
  "language_info": {
   "codemirror_mode": {
    "name": "ipython",
    "version": 3
   },
   "file_extension": ".py",
   "mimetype": "text/x-python",
   "name": "python",
   "nbconvert_exporter": "python",
   "pygments_lexer": "ipython3",
   "version": "3.8.3"
  }
 },
 "nbformat": 4,
 "nbformat_minor": 1
}
